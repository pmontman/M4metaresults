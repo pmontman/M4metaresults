{
  "cells": [
    {
      "cell_type": "markdown",
      "metadata": {
        "id": "view-in-github",
        "colab_type": "text"
      },
      "source": [
        "<a href=\"https://colab.research.google.com/github/pmontman/M4metaresults/blob/master/SOLU_QBUS3840_2022_PRACTICE_FINAL.ipynb\" target=\"_parent\"><img src=\"https://colab.research.google.com/assets/colab-badge.svg\" alt=\"Open In Colab\"/></a>"
      ]
    },
    {
      "cell_type": "markdown",
      "metadata": {
        "id": "sa78r-a82TkF"
      },
      "source": [
        "# PRACTICE FOR THE FINAL\n",
        "\n",
        "---\n",
        "---\n"
      ]
    },
    {
      "cell_type": "markdown",
      "metadata": {
        "id": "51sUYtBRJw7D"
      },
      "source": [
        "## Education choices\n",
        "We have a dataset coming from a discrete choice experiment on preferences for children education. The researchers want to establish the effects of the cost of education, foreign language used at school and the distance to the school.\n",
        "\n",
        "The experiment presents households with several choice situations, each one in a different card. On each situation, the household has to decide between two alternatives. \n",
        "As in many choice experiments, the alternatives are used just to compare the effects attributes. Unlike, for example, a transportation choice with alternatives train, car and bus, here the alternatives do not encode information, we can just consider them as 'alternative A' and 'alternative B'.\n",
        "**Alternative 'A' should be indistiguisable from Alternative B if their attributes in the choice situation are equal.**\n",
        "\n",
        "Each household may answer several choice situations, we keep track of each household using the variable *id* in the dataset.\n",
        "\n",
        "TO TEST IF THE EXAM IS WELL SUBMITTED INTO CANVAS. "
      ]
    },
    {
      "cell_type": "markdown",
      "metadata": {
        "id": "9Q-59lUVonl_"
      },
      "source": [
        "---\n",
        "---\n",
        "\n",
        "# Description of the dataset\n",
        "\n",
        "Survey variables\n",
        " * **choice:** The response variable (1= alternative A, 2=alternative B).\n",
        " * **id:** Household ID.\n",
        "\n",
        "\\\n",
        "\n",
        "Attributes\n",
        "\n",
        " * **cost_A, cost_B:** Yeaarly cost in dollars.\n",
        " * **foreign_A, foreign_B:** Whether school uses a foreign language as the default language for all units (except when teaching the local language unit).\n",
        " * **distance_A, distance_B:** Distance to the school, in meters.\n",
        "\n",
        "\\\n",
        "  \n",
        "Socioeconomic characteristics\n",
        "\n",
        " * **male:**  1 if the child in the household is male, 0 otherwise.\n",
        " * **female:**  1 if the child is in the household is female, 0 otherwise.\n",
        " * **parent_educ:** Head of the family education level (0=no formal education, 1=high school, 2=undergad, 3=postgrad)\n",
        " "
      ]
    },
    {
      "cell_type": "markdown",
      "metadata": {
        "id": "KM2N5QNzpDYj"
      },
      "source": [
        "\n"
      ]
    },
    {
      "cell_type": "markdown",
      "metadata": {
        "id": "vb9SIunnASNB"
      },
      "source": [
        "---\n",
        "---\n",
        "\n",
        "# Preparing the environment\n",
        "*The preparation and dataset loading code is given to the students, you might modify it.*"
      ]
    },
    {
      "cell_type": "code",
      "execution_count": 1,
      "metadata": {
        "colab": {
          "base_uri": "https://localhost:8080/"
        },
        "id": "j5zHGhgErHPd",
        "outputId": "b5f1d09c-1d65-4c6d-b3df-c0ccd2198114"
      },
      "outputs": [
        {
          "output_type": "stream",
          "name": "stdout",
          "text": [
            "Looking in indexes: https://pypi.org/simple, https://us-python.pkg.dev/colab-wheels/public/simple/\n",
            "Requirement already satisfied: biogeme in /usr/local/lib/python3.7/dist-packages (3.2.10)\n"
          ]
        }
      ],
      "source": [
        "!pip install biogeme"
      ]
    },
    {
      "cell_type": "markdown",
      "metadata": {
        "id": "1z0X9xZ8rChf"
      },
      "source": [
        "Load the packages."
      ]
    },
    {
      "cell_type": "code",
      "execution_count": 2,
      "metadata": {
        "id": "apVB-TMkrFnb"
      },
      "outputs": [],
      "source": [
        "import pandas  as pd\n",
        "import numpy as np\n",
        "import matplotlib.pyplot as plt\n",
        "\n",
        "import biogeme.database as db\n",
        "import biogeme.biogeme as bio\n",
        "import biogeme.models as models\n",
        "import biogeme.expressions as exp\n",
        "import biogeme.tools as tools\n",
        "import biogeme.distributions as dist"
      ]
    },
    {
      "cell_type": "markdown",
      "metadata": {
        "id": "1erqCHCMrq8y"
      },
      "source": [
        "\n",
        "---\n",
        "---\n"
      ]
    },
    {
      "cell_type": "markdown",
      "metadata": {
        "id": "Mgv0hV1YAieW"
      },
      "source": [
        "---\n",
        "---\n",
        "\n",
        "# Load the datasets"
      ]
    },
    {
      "cell_type": "markdown",
      "metadata": {
        "id": "gySSmVdcYPwN"
      },
      "source": [
        "*Auxiliary code is provided to load the dataset*\n"
      ]
    },
    {
      "cell_type": "code",
      "execution_count": 3,
      "metadata": {
        "id": "g1Ykn5Ytr7Rs"
      },
      "outputs": [],
      "source": [
        "\n",
        "url = 'https://drive.google.com/file/d/1flpaR4wwM9DaToAo5urt7T1Kfgb7zUN3/view?usp=sharing'\n",
        "path = 'https://drive.google.com/uc?export=download&id='+url.split('/')[-2]\n",
        "educ_pd = pd.read_csv(path)\n"
      ]
    },
    {
      "cell_type": "code",
      "execution_count": 4,
      "metadata": {
        "colab": {
          "base_uri": "https://localhost:8080/",
          "height": 269
        },
        "id": "ldkmnMhssemT",
        "outputId": "6d3514d5-b2ac-419b-e918-e15c59bb17a0"
      },
      "outputs": [
        {
          "output_type": "execute_result",
          "data": {
            "text/plain": [
              "   id  choice  cost_A  foreign_A  distance_A  cost_B  foreign_B  distance_B  \\\n",
              "0   5       1  201218          0        3248  409082          1        2463   \n",
              "1   8       1  106655          1        5375  204348          0        2508   \n",
              "2   8       2  302259          0        4349  205217          1        2113   \n",
              "3   8       2  307518          0        4188  406835          1        2975   \n",
              "4   9       1  208701          1        4218  104187          0        5247   \n",
              "5  10       2  204284          0        2427  103413          1        2850   \n",
              "6  10       2  302429          0        4202  208732          1        2165   \n",
              "\n",
              "   male  female  parent_educ  \n",
              "0     1       0            2  \n",
              "1     0       1            1  \n",
              "2     0       1            1  \n",
              "3     1       0            2  \n",
              "4     0       1            1  \n",
              "5     0       1            1  \n",
              "6     0       1            2  "
            ],
            "text/html": [
              "\n",
              "  <div id=\"df-0fcbc0d3-bde0-46dd-9388-288a1a61e0a0\">\n",
              "    <div class=\"colab-df-container\">\n",
              "      <div>\n",
              "<style scoped>\n",
              "    .dataframe tbody tr th:only-of-type {\n",
              "        vertical-align: middle;\n",
              "    }\n",
              "\n",
              "    .dataframe tbody tr th {\n",
              "        vertical-align: top;\n",
              "    }\n",
              "\n",
              "    .dataframe thead th {\n",
              "        text-align: right;\n",
              "    }\n",
              "</style>\n",
              "<table border=\"1\" class=\"dataframe\">\n",
              "  <thead>\n",
              "    <tr style=\"text-align: right;\">\n",
              "      <th></th>\n",
              "      <th>id</th>\n",
              "      <th>choice</th>\n",
              "      <th>cost_A</th>\n",
              "      <th>foreign_A</th>\n",
              "      <th>distance_A</th>\n",
              "      <th>cost_B</th>\n",
              "      <th>foreign_B</th>\n",
              "      <th>distance_B</th>\n",
              "      <th>male</th>\n",
              "      <th>female</th>\n",
              "      <th>parent_educ</th>\n",
              "    </tr>\n",
              "  </thead>\n",
              "  <tbody>\n",
              "    <tr>\n",
              "      <th>0</th>\n",
              "      <td>5</td>\n",
              "      <td>1</td>\n",
              "      <td>201218</td>\n",
              "      <td>0</td>\n",
              "      <td>3248</td>\n",
              "      <td>409082</td>\n",
              "      <td>1</td>\n",
              "      <td>2463</td>\n",
              "      <td>1</td>\n",
              "      <td>0</td>\n",
              "      <td>2</td>\n",
              "    </tr>\n",
              "    <tr>\n",
              "      <th>1</th>\n",
              "      <td>8</td>\n",
              "      <td>1</td>\n",
              "      <td>106655</td>\n",
              "      <td>1</td>\n",
              "      <td>5375</td>\n",
              "      <td>204348</td>\n",
              "      <td>0</td>\n",
              "      <td>2508</td>\n",
              "      <td>0</td>\n",
              "      <td>1</td>\n",
              "      <td>1</td>\n",
              "    </tr>\n",
              "    <tr>\n",
              "      <th>2</th>\n",
              "      <td>8</td>\n",
              "      <td>2</td>\n",
              "      <td>302259</td>\n",
              "      <td>0</td>\n",
              "      <td>4349</td>\n",
              "      <td>205217</td>\n",
              "      <td>1</td>\n",
              "      <td>2113</td>\n",
              "      <td>0</td>\n",
              "      <td>1</td>\n",
              "      <td>1</td>\n",
              "    </tr>\n",
              "    <tr>\n",
              "      <th>3</th>\n",
              "      <td>8</td>\n",
              "      <td>2</td>\n",
              "      <td>307518</td>\n",
              "      <td>0</td>\n",
              "      <td>4188</td>\n",
              "      <td>406835</td>\n",
              "      <td>1</td>\n",
              "      <td>2975</td>\n",
              "      <td>1</td>\n",
              "      <td>0</td>\n",
              "      <td>2</td>\n",
              "    </tr>\n",
              "    <tr>\n",
              "      <th>4</th>\n",
              "      <td>9</td>\n",
              "      <td>1</td>\n",
              "      <td>208701</td>\n",
              "      <td>1</td>\n",
              "      <td>4218</td>\n",
              "      <td>104187</td>\n",
              "      <td>0</td>\n",
              "      <td>5247</td>\n",
              "      <td>0</td>\n",
              "      <td>1</td>\n",
              "      <td>1</td>\n",
              "    </tr>\n",
              "    <tr>\n",
              "      <th>5</th>\n",
              "      <td>10</td>\n",
              "      <td>2</td>\n",
              "      <td>204284</td>\n",
              "      <td>0</td>\n",
              "      <td>2427</td>\n",
              "      <td>103413</td>\n",
              "      <td>1</td>\n",
              "      <td>2850</td>\n",
              "      <td>0</td>\n",
              "      <td>1</td>\n",
              "      <td>1</td>\n",
              "    </tr>\n",
              "    <tr>\n",
              "      <th>6</th>\n",
              "      <td>10</td>\n",
              "      <td>2</td>\n",
              "      <td>302429</td>\n",
              "      <td>0</td>\n",
              "      <td>4202</td>\n",
              "      <td>208732</td>\n",
              "      <td>1</td>\n",
              "      <td>2165</td>\n",
              "      <td>0</td>\n",
              "      <td>1</td>\n",
              "      <td>2</td>\n",
              "    </tr>\n",
              "  </tbody>\n",
              "</table>\n",
              "</div>\n",
              "      <button class=\"colab-df-convert\" onclick=\"convertToInteractive('df-0fcbc0d3-bde0-46dd-9388-288a1a61e0a0')\"\n",
              "              title=\"Convert this dataframe to an interactive table.\"\n",
              "              style=\"display:none;\">\n",
              "        \n",
              "  <svg xmlns=\"http://www.w3.org/2000/svg\" height=\"24px\"viewBox=\"0 0 24 24\"\n",
              "       width=\"24px\">\n",
              "    <path d=\"M0 0h24v24H0V0z\" fill=\"none\"/>\n",
              "    <path d=\"M18.56 5.44l.94 2.06.94-2.06 2.06-.94-2.06-.94-.94-2.06-.94 2.06-2.06.94zm-11 1L8.5 8.5l.94-2.06 2.06-.94-2.06-.94L8.5 2.5l-.94 2.06-2.06.94zm10 10l.94 2.06.94-2.06 2.06-.94-2.06-.94-.94-2.06-.94 2.06-2.06.94z\"/><path d=\"M17.41 7.96l-1.37-1.37c-.4-.4-.92-.59-1.43-.59-.52 0-1.04.2-1.43.59L10.3 9.45l-7.72 7.72c-.78.78-.78 2.05 0 2.83L4 21.41c.39.39.9.59 1.41.59.51 0 1.02-.2 1.41-.59l7.78-7.78 2.81-2.81c.8-.78.8-2.07 0-2.86zM5.41 20L4 18.59l7.72-7.72 1.47 1.35L5.41 20z\"/>\n",
              "  </svg>\n",
              "      </button>\n",
              "      \n",
              "  <style>\n",
              "    .colab-df-container {\n",
              "      display:flex;\n",
              "      flex-wrap:wrap;\n",
              "      gap: 12px;\n",
              "    }\n",
              "\n",
              "    .colab-df-convert {\n",
              "      background-color: #E8F0FE;\n",
              "      border: none;\n",
              "      border-radius: 50%;\n",
              "      cursor: pointer;\n",
              "      display: none;\n",
              "      fill: #1967D2;\n",
              "      height: 32px;\n",
              "      padding: 0 0 0 0;\n",
              "      width: 32px;\n",
              "    }\n",
              "\n",
              "    .colab-df-convert:hover {\n",
              "      background-color: #E2EBFA;\n",
              "      box-shadow: 0px 1px 2px rgba(60, 64, 67, 0.3), 0px 1px 3px 1px rgba(60, 64, 67, 0.15);\n",
              "      fill: #174EA6;\n",
              "    }\n",
              "\n",
              "    [theme=dark] .colab-df-convert {\n",
              "      background-color: #3B4455;\n",
              "      fill: #D2E3FC;\n",
              "    }\n",
              "\n",
              "    [theme=dark] .colab-df-convert:hover {\n",
              "      background-color: #434B5C;\n",
              "      box-shadow: 0px 1px 3px 1px rgba(0, 0, 0, 0.15);\n",
              "      filter: drop-shadow(0px 1px 2px rgba(0, 0, 0, 0.3));\n",
              "      fill: #FFFFFF;\n",
              "    }\n",
              "  </style>\n",
              "\n",
              "      <script>\n",
              "        const buttonEl =\n",
              "          document.querySelector('#df-0fcbc0d3-bde0-46dd-9388-288a1a61e0a0 button.colab-df-convert');\n",
              "        buttonEl.style.display =\n",
              "          google.colab.kernel.accessAllowed ? 'block' : 'none';\n",
              "\n",
              "        async function convertToInteractive(key) {\n",
              "          const element = document.querySelector('#df-0fcbc0d3-bde0-46dd-9388-288a1a61e0a0');\n",
              "          const dataTable =\n",
              "            await google.colab.kernel.invokeFunction('convertToInteractive',\n",
              "                                                     [key], {});\n",
              "          if (!dataTable) return;\n",
              "\n",
              "          const docLinkHtml = 'Like what you see? Visit the ' +\n",
              "            '<a target=\"_blank\" href=https://colab.research.google.com/notebooks/data_table.ipynb>data table notebook</a>'\n",
              "            + ' to learn more about interactive tables.';\n",
              "          element.innerHTML = '';\n",
              "          dataTable['output_type'] = 'display_data';\n",
              "          await google.colab.output.renderOutput(dataTable, element);\n",
              "          const docLink = document.createElement('div');\n",
              "          docLink.innerHTML = docLinkHtml;\n",
              "          element.appendChild(docLink);\n",
              "        }\n",
              "      </script>\n",
              "    </div>\n",
              "  </div>\n",
              "  "
            ]
          },
          "metadata": {},
          "execution_count": 4
        }
      ],
      "source": [
        "educ_pd.head(7)"
      ]
    },
    {
      "cell_type": "markdown",
      "metadata": {
        "id": "zBI1kW9amL0i"
      },
      "source": [
        "\n",
        "___\n",
        "___\n"
      ]
    },
    {
      "cell_type": "markdown",
      "metadata": {
        "id": "5G2DJzviHWZN"
      },
      "source": [
        "#1) Fit a multinomial logit model to act as reference model, using cost and distance as attributes.\n",
        "*Hint: Do not consider alternative-specific constants.*"
      ]
    },
    {
      "cell_type": "code",
      "source": [],
      "metadata": {
        "id": "gSGD231lICVB"
      },
      "execution_count": null,
      "outputs": []
    },
    {
      "cell_type": "markdown",
      "source": [
        "# !!!For some reason we need to standardize the variables, biogeme goes crazy otherwise"
      ],
      "metadata": {
        "id": "YxeGIdJDICrg"
      }
    },
    {
      "cell_type": "code",
      "source": [
        "educ_pd['distance_A']=(educ_pd['distance_A']-educ_pd['distance_A'].mean())/educ_pd['distance_A'].std()\n",
        "educ_pd['distance_B']=(educ_pd['distance_B']-educ_pd['distance_B'].mean())/educ_pd['distance_B'].std()\n",
        "educ_pd['cost_A']=(educ_pd['cost_A']-educ_pd['cost_A'].mean())/educ_pd['cost_A'].std()\n",
        "educ_pd['cost_B']=(educ_pd['cost_B']-educ_pd['cost_B'].mean())/educ_pd['cost_B'].std()"
      ],
      "metadata": {
        "id": "fx99EvkYHvlj"
      },
      "execution_count": 6,
      "outputs": []
    },
    {
      "cell_type": "markdown",
      "metadata": {
        "id": "1EisoH3rolg2"
      },
      "source": [
        "This one we give you a little hint:"
      ]
    },
    {
      "cell_type": "code",
      "execution_count": 7,
      "metadata": {
        "colab": {
          "base_uri": "https://localhost:8080/",
          "height": 112
        },
        "id": "U76usD5o8DRK",
        "outputId": "cbdb8a54-2880-463a-9a2f-d3e0ee56f797"
      },
      "outputs": [
        {
          "output_type": "execute_result",
          "data": {
            "text/plain": [
              "           Value  Rob. Std err  Rob. t-test  Rob. p-value\n",
              "B_cost -0.424985      0.047129    -9.017579           0.0\n",
              "B_dist -0.443359      0.037668   -11.770197           0.0"
            ],
            "text/html": [
              "\n",
              "  <div id=\"df-4d543d3f-dd61-45ba-9957-e0e33b83dadf\">\n",
              "    <div class=\"colab-df-container\">\n",
              "      <div>\n",
              "<style scoped>\n",
              "    .dataframe tbody tr th:only-of-type {\n",
              "        vertical-align: middle;\n",
              "    }\n",
              "\n",
              "    .dataframe tbody tr th {\n",
              "        vertical-align: top;\n",
              "    }\n",
              "\n",
              "    .dataframe thead th {\n",
              "        text-align: right;\n",
              "    }\n",
              "</style>\n",
              "<table border=\"1\" class=\"dataframe\">\n",
              "  <thead>\n",
              "    <tr style=\"text-align: right;\">\n",
              "      <th></th>\n",
              "      <th>Value</th>\n",
              "      <th>Rob. Std err</th>\n",
              "      <th>Rob. t-test</th>\n",
              "      <th>Rob. p-value</th>\n",
              "    </tr>\n",
              "  </thead>\n",
              "  <tbody>\n",
              "    <tr>\n",
              "      <th>B_cost</th>\n",
              "      <td>-0.424985</td>\n",
              "      <td>0.047129</td>\n",
              "      <td>-9.017579</td>\n",
              "      <td>0.0</td>\n",
              "    </tr>\n",
              "    <tr>\n",
              "      <th>B_dist</th>\n",
              "      <td>-0.443359</td>\n",
              "      <td>0.037668</td>\n",
              "      <td>-11.770197</td>\n",
              "      <td>0.0</td>\n",
              "    </tr>\n",
              "  </tbody>\n",
              "</table>\n",
              "</div>\n",
              "      <button class=\"colab-df-convert\" onclick=\"convertToInteractive('df-4d543d3f-dd61-45ba-9957-e0e33b83dadf')\"\n",
              "              title=\"Convert this dataframe to an interactive table.\"\n",
              "              style=\"display:none;\">\n",
              "        \n",
              "  <svg xmlns=\"http://www.w3.org/2000/svg\" height=\"24px\"viewBox=\"0 0 24 24\"\n",
              "       width=\"24px\">\n",
              "    <path d=\"M0 0h24v24H0V0z\" fill=\"none\"/>\n",
              "    <path d=\"M18.56 5.44l.94 2.06.94-2.06 2.06-.94-2.06-.94-.94-2.06-.94 2.06-2.06.94zm-11 1L8.5 8.5l.94-2.06 2.06-.94-2.06-.94L8.5 2.5l-.94 2.06-2.06.94zm10 10l.94 2.06.94-2.06 2.06-.94-2.06-.94-.94-2.06-.94 2.06-2.06.94z\"/><path d=\"M17.41 7.96l-1.37-1.37c-.4-.4-.92-.59-1.43-.59-.52 0-1.04.2-1.43.59L10.3 9.45l-7.72 7.72c-.78.78-.78 2.05 0 2.83L4 21.41c.39.39.9.59 1.41.59.51 0 1.02-.2 1.41-.59l7.78-7.78 2.81-2.81c.8-.78.8-2.07 0-2.86zM5.41 20L4 18.59l7.72-7.72 1.47 1.35L5.41 20z\"/>\n",
              "  </svg>\n",
              "      </button>\n",
              "      \n",
              "  <style>\n",
              "    .colab-df-container {\n",
              "      display:flex;\n",
              "      flex-wrap:wrap;\n",
              "      gap: 12px;\n",
              "    }\n",
              "\n",
              "    .colab-df-convert {\n",
              "      background-color: #E8F0FE;\n",
              "      border: none;\n",
              "      border-radius: 50%;\n",
              "      cursor: pointer;\n",
              "      display: none;\n",
              "      fill: #1967D2;\n",
              "      height: 32px;\n",
              "      padding: 0 0 0 0;\n",
              "      width: 32px;\n",
              "    }\n",
              "\n",
              "    .colab-df-convert:hover {\n",
              "      background-color: #E2EBFA;\n",
              "      box-shadow: 0px 1px 2px rgba(60, 64, 67, 0.3), 0px 1px 3px 1px rgba(60, 64, 67, 0.15);\n",
              "      fill: #174EA6;\n",
              "    }\n",
              "\n",
              "    [theme=dark] .colab-df-convert {\n",
              "      background-color: #3B4455;\n",
              "      fill: #D2E3FC;\n",
              "    }\n",
              "\n",
              "    [theme=dark] .colab-df-convert:hover {\n",
              "      background-color: #434B5C;\n",
              "      box-shadow: 0px 1px 3px 1px rgba(0, 0, 0, 0.15);\n",
              "      filter: drop-shadow(0px 1px 2px rgba(0, 0, 0, 0.3));\n",
              "      fill: #FFFFFF;\n",
              "    }\n",
              "  </style>\n",
              "\n",
              "      <script>\n",
              "        const buttonEl =\n",
              "          document.querySelector('#df-4d543d3f-dd61-45ba-9957-e0e33b83dadf button.colab-df-convert');\n",
              "        buttonEl.style.display =\n",
              "          google.colab.kernel.accessAllowed ? 'block' : 'none';\n",
              "\n",
              "        async function convertToInteractive(key) {\n",
              "          const element = document.querySelector('#df-4d543d3f-dd61-45ba-9957-e0e33b83dadf');\n",
              "          const dataTable =\n",
              "            await google.colab.kernel.invokeFunction('convertToInteractive',\n",
              "                                                     [key], {});\n",
              "          if (!dataTable) return;\n",
              "\n",
              "          const docLinkHtml = 'Like what you see? Visit the ' +\n",
              "            '<a target=\"_blank\" href=https://colab.research.google.com/notebooks/data_table.ipynb>data table notebook</a>'\n",
              "            + ' to learn more about interactive tables.';\n",
              "          element.innerHTML = '';\n",
              "          dataTable['output_type'] = 'display_data';\n",
              "          await google.colab.output.renderOutput(dataTable, element);\n",
              "          const docLink = document.createElement('div');\n",
              "          docLink.innerHTML = docLinkHtml;\n",
              "          element.appendChild(docLink);\n",
              "        }\n",
              "      </script>\n",
              "    </div>\n",
              "  </div>\n",
              "  "
            ]
          },
          "metadata": {},
          "execution_count": 7
        }
      ],
      "source": [
        "bgm_edu = db.Database('edu', educ_pd)\n",
        "globals().update(bgm_edu.variables)\n",
        "\n",
        "B_cost = exp.Beta( 'B_cost', 0, None, None, 0)\n",
        "B_dist = exp.Beta( 'B_dist', 0, None, None, 0)\n",
        "B_fore = exp.Beta( 'B_fore', 0, None, None, 0)\n",
        "\n",
        "\n",
        "V_A = B_cost*cost_A + B_dist*distance_A #+ B_fore*foreign_A\n",
        "V_B = B_cost*cost_B + B_dist*distance_B #+ B_fore*foreign_B\n",
        "\n",
        "V = {1: V_A ,\n",
        "  2: V_B \n",
        "  }\n",
        "av = {1: 1,\n",
        "  2: 1\n",
        " }\n",
        "\n",
        "logprob = models.loglogit (V , av , choice )\n",
        "bgm_model = bio.BIOGEME ( bgm_edu, logprob )\n",
        "bgm_model.modelName = 'my first multinomial logit'\n",
        "results = bgm_model.estimate()\n",
        "\n",
        "\n",
        "\n",
        "results.getEstimatedParameters()"
      ]
    },
    {
      "cell_type": "markdown",
      "metadata": {
        "id": "A_k-MoSm21Ov"
      },
      "source": [
        "---"
      ]
    },
    {
      "cell_type": "markdown",
      "metadata": {
        "id": "MosyE7gIuDnD"
      },
      "source": [
        "# 2) Use parents education as a characteristic interacting with cost.  Comment on the results (signs of the variables, interpretation of the interaction)."
      ]
    },
    {
      "cell_type": "markdown",
      "source": [
        "So parents education makes the effect of cost of the school less negative.\n",
        "The code."
      ],
      "metadata": {
        "id": "XKSmSPrI7uq2"
      }
    },
    {
      "cell_type": "code",
      "execution_count": 8,
      "metadata": {
        "id": "cxeANAnYvL0g",
        "colab": {
          "base_uri": "https://localhost:8080/",
          "height": 143
        },
        "outputId": "d52b6c44-20ba-4763-ca78-8590a49731d5"
      },
      "outputs": [
        {
          "output_type": "execute_result",
          "data": {
            "text/plain": [
              "            Value  Rob. Std err  Rob. t-test  Rob. p-value\n",
              "B_cost  -0.616324      0.117327    -5.253026  1.496200e-07\n",
              "B_dist  -0.444602      0.037792   -11.764434  0.000000e+00\n",
              "B_pared  0.155342      0.086823     1.789167  7.358788e-02"
            ],
            "text/html": [
              "\n",
              "  <div id=\"df-8f19f171-f65d-42b2-af86-e379f6f547e6\">\n",
              "    <div class=\"colab-df-container\">\n",
              "      <div>\n",
              "<style scoped>\n",
              "    .dataframe tbody tr th:only-of-type {\n",
              "        vertical-align: middle;\n",
              "    }\n",
              "\n",
              "    .dataframe tbody tr th {\n",
              "        vertical-align: top;\n",
              "    }\n",
              "\n",
              "    .dataframe thead th {\n",
              "        text-align: right;\n",
              "    }\n",
              "</style>\n",
              "<table border=\"1\" class=\"dataframe\">\n",
              "  <thead>\n",
              "    <tr style=\"text-align: right;\">\n",
              "      <th></th>\n",
              "      <th>Value</th>\n",
              "      <th>Rob. Std err</th>\n",
              "      <th>Rob. t-test</th>\n",
              "      <th>Rob. p-value</th>\n",
              "    </tr>\n",
              "  </thead>\n",
              "  <tbody>\n",
              "    <tr>\n",
              "      <th>B_cost</th>\n",
              "      <td>-0.616324</td>\n",
              "      <td>0.117327</td>\n",
              "      <td>-5.253026</td>\n",
              "      <td>1.496200e-07</td>\n",
              "    </tr>\n",
              "    <tr>\n",
              "      <th>B_dist</th>\n",
              "      <td>-0.444602</td>\n",
              "      <td>0.037792</td>\n",
              "      <td>-11.764434</td>\n",
              "      <td>0.000000e+00</td>\n",
              "    </tr>\n",
              "    <tr>\n",
              "      <th>B_pared</th>\n",
              "      <td>0.155342</td>\n",
              "      <td>0.086823</td>\n",
              "      <td>1.789167</td>\n",
              "      <td>7.358788e-02</td>\n",
              "    </tr>\n",
              "  </tbody>\n",
              "</table>\n",
              "</div>\n",
              "      <button class=\"colab-df-convert\" onclick=\"convertToInteractive('df-8f19f171-f65d-42b2-af86-e379f6f547e6')\"\n",
              "              title=\"Convert this dataframe to an interactive table.\"\n",
              "              style=\"display:none;\">\n",
              "        \n",
              "  <svg xmlns=\"http://www.w3.org/2000/svg\" height=\"24px\"viewBox=\"0 0 24 24\"\n",
              "       width=\"24px\">\n",
              "    <path d=\"M0 0h24v24H0V0z\" fill=\"none\"/>\n",
              "    <path d=\"M18.56 5.44l.94 2.06.94-2.06 2.06-.94-2.06-.94-.94-2.06-.94 2.06-2.06.94zm-11 1L8.5 8.5l.94-2.06 2.06-.94-2.06-.94L8.5 2.5l-.94 2.06-2.06.94zm10 10l.94 2.06.94-2.06 2.06-.94-2.06-.94-.94-2.06-.94 2.06-2.06.94z\"/><path d=\"M17.41 7.96l-1.37-1.37c-.4-.4-.92-.59-1.43-.59-.52 0-1.04.2-1.43.59L10.3 9.45l-7.72 7.72c-.78.78-.78 2.05 0 2.83L4 21.41c.39.39.9.59 1.41.59.51 0 1.02-.2 1.41-.59l7.78-7.78 2.81-2.81c.8-.78.8-2.07 0-2.86zM5.41 20L4 18.59l7.72-7.72 1.47 1.35L5.41 20z\"/>\n",
              "  </svg>\n",
              "      </button>\n",
              "      \n",
              "  <style>\n",
              "    .colab-df-container {\n",
              "      display:flex;\n",
              "      flex-wrap:wrap;\n",
              "      gap: 12px;\n",
              "    }\n",
              "\n",
              "    .colab-df-convert {\n",
              "      background-color: #E8F0FE;\n",
              "      border: none;\n",
              "      border-radius: 50%;\n",
              "      cursor: pointer;\n",
              "      display: none;\n",
              "      fill: #1967D2;\n",
              "      height: 32px;\n",
              "      padding: 0 0 0 0;\n",
              "      width: 32px;\n",
              "    }\n",
              "\n",
              "    .colab-df-convert:hover {\n",
              "      background-color: #E2EBFA;\n",
              "      box-shadow: 0px 1px 2px rgba(60, 64, 67, 0.3), 0px 1px 3px 1px rgba(60, 64, 67, 0.15);\n",
              "      fill: #174EA6;\n",
              "    }\n",
              "\n",
              "    [theme=dark] .colab-df-convert {\n",
              "      background-color: #3B4455;\n",
              "      fill: #D2E3FC;\n",
              "    }\n",
              "\n",
              "    [theme=dark] .colab-df-convert:hover {\n",
              "      background-color: #434B5C;\n",
              "      box-shadow: 0px 1px 3px 1px rgba(0, 0, 0, 0.15);\n",
              "      filter: drop-shadow(0px 1px 2px rgba(0, 0, 0, 0.3));\n",
              "      fill: #FFFFFF;\n",
              "    }\n",
              "  </style>\n",
              "\n",
              "      <script>\n",
              "        const buttonEl =\n",
              "          document.querySelector('#df-8f19f171-f65d-42b2-af86-e379f6f547e6 button.colab-df-convert');\n",
              "        buttonEl.style.display =\n",
              "          google.colab.kernel.accessAllowed ? 'block' : 'none';\n",
              "\n",
              "        async function convertToInteractive(key) {\n",
              "          const element = document.querySelector('#df-8f19f171-f65d-42b2-af86-e379f6f547e6');\n",
              "          const dataTable =\n",
              "            await google.colab.kernel.invokeFunction('convertToInteractive',\n",
              "                                                     [key], {});\n",
              "          if (!dataTable) return;\n",
              "\n",
              "          const docLinkHtml = 'Like what you see? Visit the ' +\n",
              "            '<a target=\"_blank\" href=https://colab.research.google.com/notebooks/data_table.ipynb>data table notebook</a>'\n",
              "            + ' to learn more about interactive tables.';\n",
              "          element.innerHTML = '';\n",
              "          dataTable['output_type'] = 'display_data';\n",
              "          await google.colab.output.renderOutput(dataTable, element);\n",
              "          const docLink = document.createElement('div');\n",
              "          docLink.innerHTML = docLinkHtml;\n",
              "          element.appendChild(docLink);\n",
              "        }\n",
              "      </script>\n",
              "    </div>\n",
              "  </div>\n",
              "  "
            ]
          },
          "metadata": {},
          "execution_count": 8
        }
      ],
      "source": [
        "\n",
        "B_pared = exp.Beta( 'B_pared', 0, None, None, 0)\n",
        "V_A_pared = B_cost*cost_A + B_dist*distance_A + B_pared*parent_educ*cost_A\n",
        "V_B_pared = B_cost*cost_B + B_dist*distance_B + B_pared*parent_educ*cost_B\n",
        "\n",
        "V_pared = {1: V_A_pared ,\n",
        "  2: V_B_pared \n",
        "  }\n",
        "av = {1: 1,\n",
        "  2: 1\n",
        " }\n",
        "\n",
        "logprob_pared = models.loglogit (V_pared , av , choice )\n",
        "bgm_model_pared = bio.BIOGEME ( bgm_edu, logprob_pared )\n",
        "bgm_model_pared.modelName = 'my first multinomial logit'\n",
        "results_pared = bgm_model_pared.estimate()\n",
        "\n",
        "\n",
        "\n",
        "results_pared.getEstimatedParameters()"
      ]
    },
    {
      "cell_type": "markdown",
      "metadata": {
        "id": "KikXTIaU22zq"
      },
      "source": [
        "---"
      ]
    },
    {
      "cell_type": "markdown",
      "metadata": {
        "id": "XVyoI3O0vMkY"
      },
      "source": [
        "#3) Imagine that we model parents education as an additive characteristic (not an interaction, just adding to the utilities). However, in the context of our discrete choice experiment, this does not make sense. Explain why.\n",
        "*Hint: No programming required but you might fit some models if it helps you.*\n",
        "\n"
      ]
    },
    {
      "cell_type": "markdown",
      "source": [
        "Adding a characteristic per alternative would differenciate the alternatives A and B, in our context, the alternatives A and B should not be differentiated, they represent the same concept, only used to compare the effects of the attributes."
      ],
      "metadata": {
        "id": "hzDgi5Xp64V2"
      }
    },
    {
      "cell_type": "markdown",
      "metadata": {
        "id": "AvXaWIzj24Ny"
      },
      "source": [
        "---"
      ]
    },
    {
      "cell_type": "code",
      "execution_count": 8,
      "metadata": {
        "id": "a22OUgYuwUrb"
      },
      "outputs": [],
      "source": []
    },
    {
      "cell_type": "markdown",
      "metadata": {
        "id": "j020ZHo2wU4N"
      },
      "source": [
        "# 4) Create a new multinomial logit model, including foreign language and gender variables in the model in Exercise 1. Is this a better model than the outcome of Exercise 1? \n",
        "*Hint: Pay attention to the way the variables are included (adding, interaction, per-altenative, etc.)*"
      ]
    },
    {
      "cell_type": "markdown",
      "source": [
        "This would mean, include them the via interaction,not as an additive effect.\n",
        "Similar to Question 2"
      ],
      "metadata": {
        "id": "WKZ3ZU0H8AzZ"
      }
    },
    {
      "cell_type": "code",
      "execution_count": 8,
      "metadata": {
        "id": "TdDcMdM0xZlm"
      },
      "outputs": [],
      "source": []
    },
    {
      "cell_type": "markdown",
      "metadata": {
        "id": "BM0eXn6S25ev"
      },
      "source": [
        "---"
      ]
    },
    {
      "cell_type": "markdown",
      "metadata": {
        "id": "iMin__UNxZ-3"
      },
      "source": [
        "# 5) Fit a mixed logit model (no panel) using the specification of Exercise 1, consider that the effect of distance is random. Comment on the results (changes on all coefficients with respect to Exercise 1, variance of the random coefficient)\n",
        "\n",
        "**You might use a small number of draws in the Montecarlo, or consider a smaller dataset if you get problems.**"
      ]
    },
    {
      "cell_type": "code",
      "metadata": {
        "id": "Z7Hw5WBL9LQ3"
      },
      "source": [
        "SIGMA_B_dist = exp.Beta('SIGMA_B_dist',0.01,0.00001,None,0)"
      ],
      "execution_count": 9,
      "outputs": []
    },
    {
      "cell_type": "code",
      "metadata": {
        "id": "DBx826Lk9W62"
      },
      "source": [
        "EC_B_dist = SIGMA_B_dist * exp.bioDraws('EC_B_dist','NORMAL')"
      ],
      "execution_count": 10,
      "outputs": []
    },
    {
      "cell_type": "code",
      "metadata": {
        "id": "8J92EHb_-U5t"
      },
      "source": [
        "V_A_mx = B_cost*cost_A + (B_dist+ EC_B_dist)*distance_A #+ B_fore*foreign_A\n",
        "V_B_mx = B_cost*cost_B + (B_dist+EC_B_dist)*distance_B #+ B_fore*foreign_B\n",
        "\n",
        "V_mx = {1: V_A_mx ,\n",
        "  2: V_B_mx \n",
        "  }"
      ],
      "execution_count": 11,
      "outputs": []
    },
    {
      "cell_type": "code",
      "metadata": {
        "id": "mrU6ylTf98ff"
      },
      "source": [
        "m_obsprob = models.logit(V_mx, av, choice)\n",
        "m_condprobIndiv = None"
      ],
      "execution_count": 12,
      "outputs": []
    },
    {
      "cell_type": "code",
      "metadata": {
        "id": "BMrTTiT7uizv"
      },
      "source": [
        "#if (do_PANEL):\n",
        "# m_condprobIndiv = exp.PanelLikelihoodTrajectory(m_obsprob)\n",
        "#else:\n",
        "m_condprobIndiv = m_obsprob"
      ],
      "execution_count": 13,
      "outputs": []
    },
    {
      "cell_type": "code",
      "metadata": {
        "id": "O7vqM0O9YwVz"
      },
      "source": [
        "#condprobIndiv = exp.PanelLikelihoodTrajectory(obsprob)"
      ],
      "execution_count": 14,
      "outputs": []
    },
    {
      "cell_type": "code",
      "metadata": {
        "id": "PS69PxS9yAGG"
      },
      "source": [
        "m_logprob = exp.log(exp.MonteCarlo(m_condprobIndiv))"
      ],
      "execution_count": 15,
      "outputs": []
    },
    {
      "cell_type": "code",
      "metadata": {
        "id": "iQ4kHXoaxoY8"
      },
      "source": [
        "\n",
        "# Create the Biogeme object\n",
        "m_biogeme  = bio.BIOGEME(bgm_edu,m_logprob,numberOfDraws=50, seed=1)\n"
      ],
      "execution_count": 38,
      "outputs": []
    },
    {
      "cell_type": "code",
      "metadata": {
        "id": "lQpnVVzO-CAM",
        "colab": {
          "base_uri": "https://localhost:8080/"
        },
        "outputId": "7febb5d7-d9ff-429f-f50f-f238be24b102"
      },
      "source": [
        "results_mixed = m_biogeme.estimate()"
      ],
      "execution_count": 39,
      "outputs": [
        {
          "output_type": "stream",
          "name": "stdout",
          "text": [
            "[08:35:30] < Warning >   You have not defined a name for the model. The output files are named from the model name. The default is [biogemeModelDefaultName]\n"
          ]
        }
      ]
    },
    {
      "cell_type": "code",
      "source": [
        "results_mixed.getEstimatedParameters()"
      ],
      "metadata": {
        "colab": {
          "base_uri": "https://localhost:8080/",
          "height": 143
        },
        "id": "OF7Zr2ZI9AW6",
        "outputId": "8814ecfc-a488-4df7-d0cf-abcb040d688a"
      },
      "execution_count": 40,
      "outputs": [
        {
          "output_type": "execute_result",
          "data": {
            "text/plain": [
              "                 Value  Rob. Std err  Rob. t-test  Rob. p-value\n",
              "B_cost       -0.475964      0.062169    -7.655942  1.909584e-14\n",
              "B_dist       -0.608177      0.110942    -5.481952  4.206578e-08\n",
              "SIGMA_B_dist  0.751121      0.276170     2.719778  6.532577e-03"
            ],
            "text/html": [
              "\n",
              "  <div id=\"df-b7322289-a2e7-404e-b27a-e67bb3f1a8aa\">\n",
              "    <div class=\"colab-df-container\">\n",
              "      <div>\n",
              "<style scoped>\n",
              "    .dataframe tbody tr th:only-of-type {\n",
              "        vertical-align: middle;\n",
              "    }\n",
              "\n",
              "    .dataframe tbody tr th {\n",
              "        vertical-align: top;\n",
              "    }\n",
              "\n",
              "    .dataframe thead th {\n",
              "        text-align: right;\n",
              "    }\n",
              "</style>\n",
              "<table border=\"1\" class=\"dataframe\">\n",
              "  <thead>\n",
              "    <tr style=\"text-align: right;\">\n",
              "      <th></th>\n",
              "      <th>Value</th>\n",
              "      <th>Rob. Std err</th>\n",
              "      <th>Rob. t-test</th>\n",
              "      <th>Rob. p-value</th>\n",
              "    </tr>\n",
              "  </thead>\n",
              "  <tbody>\n",
              "    <tr>\n",
              "      <th>B_cost</th>\n",
              "      <td>-0.475964</td>\n",
              "      <td>0.062169</td>\n",
              "      <td>-7.655942</td>\n",
              "      <td>1.909584e-14</td>\n",
              "    </tr>\n",
              "    <tr>\n",
              "      <th>B_dist</th>\n",
              "      <td>-0.608177</td>\n",
              "      <td>0.110942</td>\n",
              "      <td>-5.481952</td>\n",
              "      <td>4.206578e-08</td>\n",
              "    </tr>\n",
              "    <tr>\n",
              "      <th>SIGMA_B_dist</th>\n",
              "      <td>0.751121</td>\n",
              "      <td>0.276170</td>\n",
              "      <td>2.719778</td>\n",
              "      <td>6.532577e-03</td>\n",
              "    </tr>\n",
              "  </tbody>\n",
              "</table>\n",
              "</div>\n",
              "      <button class=\"colab-df-convert\" onclick=\"convertToInteractive('df-b7322289-a2e7-404e-b27a-e67bb3f1a8aa')\"\n",
              "              title=\"Convert this dataframe to an interactive table.\"\n",
              "              style=\"display:none;\">\n",
              "        \n",
              "  <svg xmlns=\"http://www.w3.org/2000/svg\" height=\"24px\"viewBox=\"0 0 24 24\"\n",
              "       width=\"24px\">\n",
              "    <path d=\"M0 0h24v24H0V0z\" fill=\"none\"/>\n",
              "    <path d=\"M18.56 5.44l.94 2.06.94-2.06 2.06-.94-2.06-.94-.94-2.06-.94 2.06-2.06.94zm-11 1L8.5 8.5l.94-2.06 2.06-.94-2.06-.94L8.5 2.5l-.94 2.06-2.06.94zm10 10l.94 2.06.94-2.06 2.06-.94-2.06-.94-.94-2.06-.94 2.06-2.06.94z\"/><path d=\"M17.41 7.96l-1.37-1.37c-.4-.4-.92-.59-1.43-.59-.52 0-1.04.2-1.43.59L10.3 9.45l-7.72 7.72c-.78.78-.78 2.05 0 2.83L4 21.41c.39.39.9.59 1.41.59.51 0 1.02-.2 1.41-.59l7.78-7.78 2.81-2.81c.8-.78.8-2.07 0-2.86zM5.41 20L4 18.59l7.72-7.72 1.47 1.35L5.41 20z\"/>\n",
              "  </svg>\n",
              "      </button>\n",
              "      \n",
              "  <style>\n",
              "    .colab-df-container {\n",
              "      display:flex;\n",
              "      flex-wrap:wrap;\n",
              "      gap: 12px;\n",
              "    }\n",
              "\n",
              "    .colab-df-convert {\n",
              "      background-color: #E8F0FE;\n",
              "      border: none;\n",
              "      border-radius: 50%;\n",
              "      cursor: pointer;\n",
              "      display: none;\n",
              "      fill: #1967D2;\n",
              "      height: 32px;\n",
              "      padding: 0 0 0 0;\n",
              "      width: 32px;\n",
              "    }\n",
              "\n",
              "    .colab-df-convert:hover {\n",
              "      background-color: #E2EBFA;\n",
              "      box-shadow: 0px 1px 2px rgba(60, 64, 67, 0.3), 0px 1px 3px 1px rgba(60, 64, 67, 0.15);\n",
              "      fill: #174EA6;\n",
              "    }\n",
              "\n",
              "    [theme=dark] .colab-df-convert {\n",
              "      background-color: #3B4455;\n",
              "      fill: #D2E3FC;\n",
              "    }\n",
              "\n",
              "    [theme=dark] .colab-df-convert:hover {\n",
              "      background-color: #434B5C;\n",
              "      box-shadow: 0px 1px 3px 1px rgba(0, 0, 0, 0.15);\n",
              "      filter: drop-shadow(0px 1px 2px rgba(0, 0, 0, 0.3));\n",
              "      fill: #FFFFFF;\n",
              "    }\n",
              "  </style>\n",
              "\n",
              "      <script>\n",
              "        const buttonEl =\n",
              "          document.querySelector('#df-b7322289-a2e7-404e-b27a-e67bb3f1a8aa button.colab-df-convert');\n",
              "        buttonEl.style.display =\n",
              "          google.colab.kernel.accessAllowed ? 'block' : 'none';\n",
              "\n",
              "        async function convertToInteractive(key) {\n",
              "          const element = document.querySelector('#df-b7322289-a2e7-404e-b27a-e67bb3f1a8aa');\n",
              "          const dataTable =\n",
              "            await google.colab.kernel.invokeFunction('convertToInteractive',\n",
              "                                                     [key], {});\n",
              "          if (!dataTable) return;\n",
              "\n",
              "          const docLinkHtml = 'Like what you see? Visit the ' +\n",
              "            '<a target=\"_blank\" href=https://colab.research.google.com/notebooks/data_table.ipynb>data table notebook</a>'\n",
              "            + ' to learn more about interactive tables.';\n",
              "          element.innerHTML = '';\n",
              "          dataTable['output_type'] = 'display_data';\n",
              "          await google.colab.output.renderOutput(dataTable, element);\n",
              "          const docLink = document.createElement('div');\n",
              "          docLink.innerHTML = docLinkHtml;\n",
              "          element.appendChild(docLink);\n",
              "        }\n",
              "      </script>\n",
              "    </div>\n",
              "  </div>\n",
              "  "
            ]
          },
          "metadata": {},
          "execution_count": 40
        }
      ]
    },
    {
      "cell_type": "markdown",
      "source": [
        "### So the variance is much larger than the mean."
      ],
      "metadata": {
        "id": "fJPIJ8649vrk"
      }
    },
    {
      "cell_type": "markdown",
      "metadata": {
        "id": "-6d0QPqc26yW"
      },
      "source": [
        "---"
      ]
    },
    {
      "cell_type": "markdown",
      "metadata": {
        "id": "_iaDHz2mxqN8"
      },
      "source": [
        "# 6) Consider the mixed logit with panel information about the household. Compare the results to Exercise 5."
      ]
    },
    {
      "cell_type": "code",
      "source": [
        "educ_norm = educ_pd.copy()"
      ],
      "metadata": {
        "id": "tMEOKHXI_R7i"
      },
      "execution_count": 19,
      "outputs": []
    },
    {
      "cell_type": "code",
      "source": [
        "educ_norm['distance_A']=(educ_norm['distance_A']-educ_norm['distance_A'].mean())/educ_norm['distance_A'].std()\n",
        "educ_norm['distance_B']=(educ_norm['distance_B']-educ_norm['distance_B'].mean())/educ_norm['distance_B'].std()\n",
        "educ_norm['cost_A']=(educ_norm['cost_A']-educ_norm['cost_A'].mean())/educ_norm['cost_A'].std()\n",
        "educ_norm['cost_B']=(educ_norm['cost_B']-educ_norm['cost_B'].mean())/educ_norm['cost_B'].std()"
      ],
      "metadata": {
        "id": "ASLZxRS0_V02"
      },
      "execution_count": 20,
      "outputs": []
    },
    {
      "cell_type": "code",
      "source": [
        "#educ_norm = educ_norm.tail(230)\n",
        "#educ_norm = educ_norm.drop(1534)"
      ],
      "metadata": {
        "id": "BW_jpnvv_9xe"
      },
      "execution_count": 21,
      "outputs": []
    },
    {
      "cell_type": "code",
      "source": [
        "educ_norm['id'] = range(1542)\n",
        "educ_norm['id'] = educ_norm['id'] + 1"
      ],
      "metadata": {
        "id": "mZGNzXAtAFh4"
      },
      "execution_count": 22,
      "outputs": []
    },
    {
      "cell_type": "code",
      "source": [
        "educ_norm"
      ],
      "metadata": {
        "colab": {
          "base_uri": "https://localhost:8080/",
          "height": 424
        },
        "id": "TepLcJb3-NBK",
        "outputId": "bfea719a-cf0f-47d8-b94c-bb4cfdb8c505"
      },
      "execution_count": 23,
      "outputs": [
        {
          "output_type": "execute_result",
          "data": {
            "text/plain": [
              "        id  choice    cost_A  foreign_A  distance_A    cost_B  foreign_B  \\\n",
              "0        1       1 -0.637955          0   -0.389403  1.618537          1   \n",
              "1        2       1 -1.816811          1    1.565657 -0.196371          0   \n",
              "2        3       2  0.621659          0    0.622596 -0.188668          1   \n",
              "3        4       2  0.687220          0    0.474611  1.598618          1   \n",
              "4        5       1 -0.544669          1    0.502186 -1.084270          0   \n",
              "...    ...     ...       ...        ...         ...       ...        ...   \n",
              "1537  1538       2 -1.832893          1    1.677795 -0.198410          0   \n",
              "1538  1539       1 -0.553146          1    0.386371 -1.068677          0   \n",
              "1539  1540       2  0.662237          1   -0.530954 -1.112194          0   \n",
              "1540  1541       1 -1.876563          1    1.350573 -0.180663          0   \n",
              "1541  1542       2 -0.563568          0   -1.433572 -1.078801          1   \n",
              "\n",
              "      distance_B  male  female  parent_educ  \n",
              "0      -1.021295     1       0            2  \n",
              "1      -0.983065     0       1            1  \n",
              "2      -1.318640     0       1            1  \n",
              "3      -0.586321     1       0            2  \n",
              "4       1.343873     0       1            1  \n",
              "...          ...   ...     ...          ...  \n",
              "1537   -1.459667     1       0            3  \n",
              "1538    1.455165     1       0            3  \n",
              "1539    1.429679     0       1            1  \n",
              "1540   -1.437578     0       1            1  \n",
              "1541   -0.357790     0       1            1  \n",
              "\n",
              "[1542 rows x 11 columns]"
            ],
            "text/html": [
              "\n",
              "  <div id=\"df-7a5966aa-3262-4a9b-b88c-133dea212f67\">\n",
              "    <div class=\"colab-df-container\">\n",
              "      <div>\n",
              "<style scoped>\n",
              "    .dataframe tbody tr th:only-of-type {\n",
              "        vertical-align: middle;\n",
              "    }\n",
              "\n",
              "    .dataframe tbody tr th {\n",
              "        vertical-align: top;\n",
              "    }\n",
              "\n",
              "    .dataframe thead th {\n",
              "        text-align: right;\n",
              "    }\n",
              "</style>\n",
              "<table border=\"1\" class=\"dataframe\">\n",
              "  <thead>\n",
              "    <tr style=\"text-align: right;\">\n",
              "      <th></th>\n",
              "      <th>id</th>\n",
              "      <th>choice</th>\n",
              "      <th>cost_A</th>\n",
              "      <th>foreign_A</th>\n",
              "      <th>distance_A</th>\n",
              "      <th>cost_B</th>\n",
              "      <th>foreign_B</th>\n",
              "      <th>distance_B</th>\n",
              "      <th>male</th>\n",
              "      <th>female</th>\n",
              "      <th>parent_educ</th>\n",
              "    </tr>\n",
              "  </thead>\n",
              "  <tbody>\n",
              "    <tr>\n",
              "      <th>0</th>\n",
              "      <td>1</td>\n",
              "      <td>1</td>\n",
              "      <td>-0.637955</td>\n",
              "      <td>0</td>\n",
              "      <td>-0.389403</td>\n",
              "      <td>1.618537</td>\n",
              "      <td>1</td>\n",
              "      <td>-1.021295</td>\n",
              "      <td>1</td>\n",
              "      <td>0</td>\n",
              "      <td>2</td>\n",
              "    </tr>\n",
              "    <tr>\n",
              "      <th>1</th>\n",
              "      <td>2</td>\n",
              "      <td>1</td>\n",
              "      <td>-1.816811</td>\n",
              "      <td>1</td>\n",
              "      <td>1.565657</td>\n",
              "      <td>-0.196371</td>\n",
              "      <td>0</td>\n",
              "      <td>-0.983065</td>\n",
              "      <td>0</td>\n",
              "      <td>1</td>\n",
              "      <td>1</td>\n",
              "    </tr>\n",
              "    <tr>\n",
              "      <th>2</th>\n",
              "      <td>3</td>\n",
              "      <td>2</td>\n",
              "      <td>0.621659</td>\n",
              "      <td>0</td>\n",
              "      <td>0.622596</td>\n",
              "      <td>-0.188668</td>\n",
              "      <td>1</td>\n",
              "      <td>-1.318640</td>\n",
              "      <td>0</td>\n",
              "      <td>1</td>\n",
              "      <td>1</td>\n",
              "    </tr>\n",
              "    <tr>\n",
              "      <th>3</th>\n",
              "      <td>4</td>\n",
              "      <td>2</td>\n",
              "      <td>0.687220</td>\n",
              "      <td>0</td>\n",
              "      <td>0.474611</td>\n",
              "      <td>1.598618</td>\n",
              "      <td>1</td>\n",
              "      <td>-0.586321</td>\n",
              "      <td>1</td>\n",
              "      <td>0</td>\n",
              "      <td>2</td>\n",
              "    </tr>\n",
              "    <tr>\n",
              "      <th>4</th>\n",
              "      <td>5</td>\n",
              "      <td>1</td>\n",
              "      <td>-0.544669</td>\n",
              "      <td>1</td>\n",
              "      <td>0.502186</td>\n",
              "      <td>-1.084270</td>\n",
              "      <td>0</td>\n",
              "      <td>1.343873</td>\n",
              "      <td>0</td>\n",
              "      <td>1</td>\n",
              "      <td>1</td>\n",
              "    </tr>\n",
              "    <tr>\n",
              "      <th>...</th>\n",
              "      <td>...</td>\n",
              "      <td>...</td>\n",
              "      <td>...</td>\n",
              "      <td>...</td>\n",
              "      <td>...</td>\n",
              "      <td>...</td>\n",
              "      <td>...</td>\n",
              "      <td>...</td>\n",
              "      <td>...</td>\n",
              "      <td>...</td>\n",
              "      <td>...</td>\n",
              "    </tr>\n",
              "    <tr>\n",
              "      <th>1537</th>\n",
              "      <td>1538</td>\n",
              "      <td>2</td>\n",
              "      <td>-1.832893</td>\n",
              "      <td>1</td>\n",
              "      <td>1.677795</td>\n",
              "      <td>-0.198410</td>\n",
              "      <td>0</td>\n",
              "      <td>-1.459667</td>\n",
              "      <td>1</td>\n",
              "      <td>0</td>\n",
              "      <td>3</td>\n",
              "    </tr>\n",
              "    <tr>\n",
              "      <th>1538</th>\n",
              "      <td>1539</td>\n",
              "      <td>1</td>\n",
              "      <td>-0.553146</td>\n",
              "      <td>1</td>\n",
              "      <td>0.386371</td>\n",
              "      <td>-1.068677</td>\n",
              "      <td>0</td>\n",
              "      <td>1.455165</td>\n",
              "      <td>1</td>\n",
              "      <td>0</td>\n",
              "      <td>3</td>\n",
              "    </tr>\n",
              "    <tr>\n",
              "      <th>1539</th>\n",
              "      <td>1540</td>\n",
              "      <td>2</td>\n",
              "      <td>0.662237</td>\n",
              "      <td>1</td>\n",
              "      <td>-0.530954</td>\n",
              "      <td>-1.112194</td>\n",
              "      <td>0</td>\n",
              "      <td>1.429679</td>\n",
              "      <td>0</td>\n",
              "      <td>1</td>\n",
              "      <td>1</td>\n",
              "    </tr>\n",
              "    <tr>\n",
              "      <th>1540</th>\n",
              "      <td>1541</td>\n",
              "      <td>1</td>\n",
              "      <td>-1.876563</td>\n",
              "      <td>1</td>\n",
              "      <td>1.350573</td>\n",
              "      <td>-0.180663</td>\n",
              "      <td>0</td>\n",
              "      <td>-1.437578</td>\n",
              "      <td>0</td>\n",
              "      <td>1</td>\n",
              "      <td>1</td>\n",
              "    </tr>\n",
              "    <tr>\n",
              "      <th>1541</th>\n",
              "      <td>1542</td>\n",
              "      <td>2</td>\n",
              "      <td>-0.563568</td>\n",
              "      <td>0</td>\n",
              "      <td>-1.433572</td>\n",
              "      <td>-1.078801</td>\n",
              "      <td>1</td>\n",
              "      <td>-0.357790</td>\n",
              "      <td>0</td>\n",
              "      <td>1</td>\n",
              "      <td>1</td>\n",
              "    </tr>\n",
              "  </tbody>\n",
              "</table>\n",
              "<p>1542 rows × 11 columns</p>\n",
              "</div>\n",
              "      <button class=\"colab-df-convert\" onclick=\"convertToInteractive('df-7a5966aa-3262-4a9b-b88c-133dea212f67')\"\n",
              "              title=\"Convert this dataframe to an interactive table.\"\n",
              "              style=\"display:none;\">\n",
              "        \n",
              "  <svg xmlns=\"http://www.w3.org/2000/svg\" height=\"24px\"viewBox=\"0 0 24 24\"\n",
              "       width=\"24px\">\n",
              "    <path d=\"M0 0h24v24H0V0z\" fill=\"none\"/>\n",
              "    <path d=\"M18.56 5.44l.94 2.06.94-2.06 2.06-.94-2.06-.94-.94-2.06-.94 2.06-2.06.94zm-11 1L8.5 8.5l.94-2.06 2.06-.94-2.06-.94L8.5 2.5l-.94 2.06-2.06.94zm10 10l.94 2.06.94-2.06 2.06-.94-2.06-.94-.94-2.06-.94 2.06-2.06.94z\"/><path d=\"M17.41 7.96l-1.37-1.37c-.4-.4-.92-.59-1.43-.59-.52 0-1.04.2-1.43.59L10.3 9.45l-7.72 7.72c-.78.78-.78 2.05 0 2.83L4 21.41c.39.39.9.59 1.41.59.51 0 1.02-.2 1.41-.59l7.78-7.78 2.81-2.81c.8-.78.8-2.07 0-2.86zM5.41 20L4 18.59l7.72-7.72 1.47 1.35L5.41 20z\"/>\n",
              "  </svg>\n",
              "      </button>\n",
              "      \n",
              "  <style>\n",
              "    .colab-df-container {\n",
              "      display:flex;\n",
              "      flex-wrap:wrap;\n",
              "      gap: 12px;\n",
              "    }\n",
              "\n",
              "    .colab-df-convert {\n",
              "      background-color: #E8F0FE;\n",
              "      border: none;\n",
              "      border-radius: 50%;\n",
              "      cursor: pointer;\n",
              "      display: none;\n",
              "      fill: #1967D2;\n",
              "      height: 32px;\n",
              "      padding: 0 0 0 0;\n",
              "      width: 32px;\n",
              "    }\n",
              "\n",
              "    .colab-df-convert:hover {\n",
              "      background-color: #E2EBFA;\n",
              "      box-shadow: 0px 1px 2px rgba(60, 64, 67, 0.3), 0px 1px 3px 1px rgba(60, 64, 67, 0.15);\n",
              "      fill: #174EA6;\n",
              "    }\n",
              "\n",
              "    [theme=dark] .colab-df-convert {\n",
              "      background-color: #3B4455;\n",
              "      fill: #D2E3FC;\n",
              "    }\n",
              "\n",
              "    [theme=dark] .colab-df-convert:hover {\n",
              "      background-color: #434B5C;\n",
              "      box-shadow: 0px 1px 3px 1px rgba(0, 0, 0, 0.15);\n",
              "      filter: drop-shadow(0px 1px 2px rgba(0, 0, 0, 0.3));\n",
              "      fill: #FFFFFF;\n",
              "    }\n",
              "  </style>\n",
              "\n",
              "      <script>\n",
              "        const buttonEl =\n",
              "          document.querySelector('#df-7a5966aa-3262-4a9b-b88c-133dea212f67 button.colab-df-convert');\n",
              "        buttonEl.style.display =\n",
              "          google.colab.kernel.accessAllowed ? 'block' : 'none';\n",
              "\n",
              "        async function convertToInteractive(key) {\n",
              "          const element = document.querySelector('#df-7a5966aa-3262-4a9b-b88c-133dea212f67');\n",
              "          const dataTable =\n",
              "            await google.colab.kernel.invokeFunction('convertToInteractive',\n",
              "                                                     [key], {});\n",
              "          if (!dataTable) return;\n",
              "\n",
              "          const docLinkHtml = 'Like what you see? Visit the ' +\n",
              "            '<a target=\"_blank\" href=https://colab.research.google.com/notebooks/data_table.ipynb>data table notebook</a>'\n",
              "            + ' to learn more about interactive tables.';\n",
              "          element.innerHTML = '';\n",
              "          dataTable['output_type'] = 'display_data';\n",
              "          await google.colab.output.renderOutput(dataTable, element);\n",
              "          const docLink = document.createElement('div');\n",
              "          docLink.innerHTML = docLinkHtml;\n",
              "          element.appendChild(docLink);\n",
              "        }\n",
              "      </script>\n",
              "    </div>\n",
              "  </div>\n",
              "  "
            ]
          },
          "metadata": {},
          "execution_count": 23
        }
      ]
    },
    {
      "cell_type": "code",
      "source": [
        "bgm_edu_norm = db.Database('educ_norm', educ_pd)\n"
      ],
      "metadata": {
        "id": "qa1MN97K_nCM"
      },
      "execution_count": 24,
      "outputs": []
    },
    {
      "cell_type": "code",
      "source": [
        "bgm_edu_norm.panel('id')\n",
        "#bgm_edu.panel('id')"
      ],
      "metadata": {
        "id": "IA8IIiq2Bx9e"
      },
      "execution_count": 25,
      "outputs": []
    },
    {
      "cell_type": "code",
      "source": [
        "globals().update(bgm_edu_norm.variables)"
      ],
      "metadata": {
        "id": "kTIUV6xmByeq"
      },
      "execution_count": 26,
      "outputs": []
    },
    {
      "cell_type": "code",
      "metadata": {
        "id": "RJNxOGcX-bd_"
      },
      "source": [
        "SIGMA_B_dist_pl = exp.Beta('SIGMA_B_dist',0.5,0,200,0)"
      ],
      "execution_count": 27,
      "outputs": []
    },
    {
      "cell_type": "code",
      "metadata": {
        "id": "4If0hYoM-bd_"
      },
      "source": [
        "EC_B_dist_pl = SIGMA_B_dist_pl * exp.bioDraws('EC_B_dist_pl','NORMAL')"
      ],
      "execution_count": 28,
      "outputs": []
    },
    {
      "cell_type": "code",
      "metadata": {
        "id": "6tZn8z2t-bd_"
      },
      "source": [
        "V_A_mx_pl = B_cost*cost_A + (B_dist+ EC_B_dist_pl)*distance_A #+ B_fore*foreign_A\n",
        "V_B_mx_pl = B_cost*cost_B + (B_dist+EC_B_dist_pl)*distance_B #+ B_fore*foreign_B\n",
        "\n",
        "V_mx_pl = {1: V_A_mx_pl ,\n",
        "  2: V_B_mx_pl \n",
        "  }"
      ],
      "execution_count": 29,
      "outputs": []
    },
    {
      "cell_type": "code",
      "source": [
        "m_obsprob_pl = models.logit(V_mx_pl, av, choice)"
      ],
      "metadata": {
        "id": "z8nn161uBLho"
      },
      "execution_count": 30,
      "outputs": []
    },
    {
      "cell_type": "code",
      "metadata": {
        "id": "Ad1XGV5w99C6"
      },
      "source": [
        "condprobIndiv_pl = exp.PanelLikelihoodTrajectory(m_obsprob_pl)"
      ],
      "execution_count": 31,
      "outputs": []
    },
    {
      "cell_type": "code",
      "metadata": {
        "id": "VtFSEHW_99C6"
      },
      "source": [
        "m_logprob_pl = exp.log(exp.MonteCarlo(condprobIndiv_pl))"
      ],
      "execution_count": 32,
      "outputs": []
    },
    {
      "cell_type": "code",
      "metadata": {
        "id": "MtKgpN_d99C6"
      },
      "source": [
        "\n",
        "# Create the Biogeme object\n",
        "m_biogeme_pl  = bio.BIOGEME(bgm_edu_norm,m_logprob_pl,numberOfDraws=50, seed=1)\n"
      ],
      "execution_count": 33,
      "outputs": []
    },
    {
      "cell_type": "code",
      "metadata": {
        "colab": {
          "base_uri": "https://localhost:8080/"
        },
        "outputId": "c5227bf9-440c-474a-9680-5dda1c4a2d33",
        "id": "kCxj27aA99C7"
      },
      "source": [
        "results_mixed_pl = m_biogeme_pl.estimate()"
      ],
      "execution_count": 34,
      "outputs": [
        {
          "output_type": "stream",
          "name": "stdout",
          "text": [
            "[08:33:59] < Warning >   You have not defined a name for the model. The output files are named from the model name. The default is [biogemeModelDefaultName]\n"
          ]
        }
      ]
    },
    {
      "cell_type": "code",
      "source": [
        "results_mixed_pl.getEstimatedParameters()"
      ],
      "metadata": {
        "colab": {
          "base_uri": "https://localhost:8080/",
          "height": 143
        },
        "outputId": "c7e04a91-9f99-4451-9718-187e1c89cd70",
        "id": "aK4ayyPD99C7"
      },
      "execution_count": 35,
      "outputs": [
        {
          "output_type": "execute_result",
          "data": {
            "text/plain": [
              "                 Value  Rob. Std err  Rob. t-test  Rob. p-value\n",
              "B_cost       -0.454608      0.057337    -7.928702  2.220446e-15\n",
              "B_dist       -0.519994      0.056430    -9.214878  0.000000e+00\n",
              "SIGMA_B_dist  0.485818      0.075582     6.427706  1.295442e-10"
            ],
            "text/html": [
              "\n",
              "  <div id=\"df-50817a8c-c007-40b9-8b2f-31884d691b98\">\n",
              "    <div class=\"colab-df-container\">\n",
              "      <div>\n",
              "<style scoped>\n",
              "    .dataframe tbody tr th:only-of-type {\n",
              "        vertical-align: middle;\n",
              "    }\n",
              "\n",
              "    .dataframe tbody tr th {\n",
              "        vertical-align: top;\n",
              "    }\n",
              "\n",
              "    .dataframe thead th {\n",
              "        text-align: right;\n",
              "    }\n",
              "</style>\n",
              "<table border=\"1\" class=\"dataframe\">\n",
              "  <thead>\n",
              "    <tr style=\"text-align: right;\">\n",
              "      <th></th>\n",
              "      <th>Value</th>\n",
              "      <th>Rob. Std err</th>\n",
              "      <th>Rob. t-test</th>\n",
              "      <th>Rob. p-value</th>\n",
              "    </tr>\n",
              "  </thead>\n",
              "  <tbody>\n",
              "    <tr>\n",
              "      <th>B_cost</th>\n",
              "      <td>-0.454608</td>\n",
              "      <td>0.057337</td>\n",
              "      <td>-7.928702</td>\n",
              "      <td>2.220446e-15</td>\n",
              "    </tr>\n",
              "    <tr>\n",
              "      <th>B_dist</th>\n",
              "      <td>-0.519994</td>\n",
              "      <td>0.056430</td>\n",
              "      <td>-9.214878</td>\n",
              "      <td>0.000000e+00</td>\n",
              "    </tr>\n",
              "    <tr>\n",
              "      <th>SIGMA_B_dist</th>\n",
              "      <td>0.485818</td>\n",
              "      <td>0.075582</td>\n",
              "      <td>6.427706</td>\n",
              "      <td>1.295442e-10</td>\n",
              "    </tr>\n",
              "  </tbody>\n",
              "</table>\n",
              "</div>\n",
              "      <button class=\"colab-df-convert\" onclick=\"convertToInteractive('df-50817a8c-c007-40b9-8b2f-31884d691b98')\"\n",
              "              title=\"Convert this dataframe to an interactive table.\"\n",
              "              style=\"display:none;\">\n",
              "        \n",
              "  <svg xmlns=\"http://www.w3.org/2000/svg\" height=\"24px\"viewBox=\"0 0 24 24\"\n",
              "       width=\"24px\">\n",
              "    <path d=\"M0 0h24v24H0V0z\" fill=\"none\"/>\n",
              "    <path d=\"M18.56 5.44l.94 2.06.94-2.06 2.06-.94-2.06-.94-.94-2.06-.94 2.06-2.06.94zm-11 1L8.5 8.5l.94-2.06 2.06-.94-2.06-.94L8.5 2.5l-.94 2.06-2.06.94zm10 10l.94 2.06.94-2.06 2.06-.94-2.06-.94-.94-2.06-.94 2.06-2.06.94z\"/><path d=\"M17.41 7.96l-1.37-1.37c-.4-.4-.92-.59-1.43-.59-.52 0-1.04.2-1.43.59L10.3 9.45l-7.72 7.72c-.78.78-.78 2.05 0 2.83L4 21.41c.39.39.9.59 1.41.59.51 0 1.02-.2 1.41-.59l7.78-7.78 2.81-2.81c.8-.78.8-2.07 0-2.86zM5.41 20L4 18.59l7.72-7.72 1.47 1.35L5.41 20z\"/>\n",
              "  </svg>\n",
              "      </button>\n",
              "      \n",
              "  <style>\n",
              "    .colab-df-container {\n",
              "      display:flex;\n",
              "      flex-wrap:wrap;\n",
              "      gap: 12px;\n",
              "    }\n",
              "\n",
              "    .colab-df-convert {\n",
              "      background-color: #E8F0FE;\n",
              "      border: none;\n",
              "      border-radius: 50%;\n",
              "      cursor: pointer;\n",
              "      display: none;\n",
              "      fill: #1967D2;\n",
              "      height: 32px;\n",
              "      padding: 0 0 0 0;\n",
              "      width: 32px;\n",
              "    }\n",
              "\n",
              "    .colab-df-convert:hover {\n",
              "      background-color: #E2EBFA;\n",
              "      box-shadow: 0px 1px 2px rgba(60, 64, 67, 0.3), 0px 1px 3px 1px rgba(60, 64, 67, 0.15);\n",
              "      fill: #174EA6;\n",
              "    }\n",
              "\n",
              "    [theme=dark] .colab-df-convert {\n",
              "      background-color: #3B4455;\n",
              "      fill: #D2E3FC;\n",
              "    }\n",
              "\n",
              "    [theme=dark] .colab-df-convert:hover {\n",
              "      background-color: #434B5C;\n",
              "      box-shadow: 0px 1px 3px 1px rgba(0, 0, 0, 0.15);\n",
              "      filter: drop-shadow(0px 1px 2px rgba(0, 0, 0, 0.3));\n",
              "      fill: #FFFFFF;\n",
              "    }\n",
              "  </style>\n",
              "\n",
              "      <script>\n",
              "        const buttonEl =\n",
              "          document.querySelector('#df-50817a8c-c007-40b9-8b2f-31884d691b98 button.colab-df-convert');\n",
              "        buttonEl.style.display =\n",
              "          google.colab.kernel.accessAllowed ? 'block' : 'none';\n",
              "\n",
              "        async function convertToInteractive(key) {\n",
              "          const element = document.querySelector('#df-50817a8c-c007-40b9-8b2f-31884d691b98');\n",
              "          const dataTable =\n",
              "            await google.colab.kernel.invokeFunction('convertToInteractive',\n",
              "                                                     [key], {});\n",
              "          if (!dataTable) return;\n",
              "\n",
              "          const docLinkHtml = 'Like what you see? Visit the ' +\n",
              "            '<a target=\"_blank\" href=https://colab.research.google.com/notebooks/data_table.ipynb>data table notebook</a>'\n",
              "            + ' to learn more about interactive tables.';\n",
              "          element.innerHTML = '';\n",
              "          dataTable['output_type'] = 'display_data';\n",
              "          await google.colab.output.renderOutput(dataTable, element);\n",
              "          const docLink = document.createElement('div');\n",
              "          docLink.innerHTML = docLinkHtml;\n",
              "          element.appendChild(docLink);\n",
              "        }\n",
              "      </script>\n",
              "    </div>\n",
              "  </div>\n",
              "  "
            ]
          },
          "metadata": {},
          "execution_count": 35
        }
      ]
    },
    {
      "cell_type": "markdown",
      "metadata": {
        "id": "Z_5V78Vw2-yp"
      },
      "source": [
        "---"
      ]
    },
    {
      "cell_type": "markdown",
      "metadata": {
        "id": "cjNfb13myWD3"
      },
      "source": [
        "#7) Calculate the willingness to pay for reducing the distance to the school, based on the results of Exercise 6.\n",
        "*Hint: consider the distribution of the WTP, since the coefficient for distance is random.*"
      ]
    },
    {
      "cell_type": "code",
      "execution_count": 35,
      "metadata": {
        "id": "FGUPkvavQyc0"
      },
      "outputs": [],
      "source": []
    },
    {
      "cell_type": "markdown",
      "metadata": {
        "id": "AsJGyU3tcWQE"
      },
      "source": [
        "# 8) The researchers want to test if there is some form of 'undesirable' systematic effect introduced in their survey method. In particular, if there are systematic differences between alternative A and alternative B (For example, because alternative A appears on top of the survey card, and B on the bottom). How would you test that? What would be the result of the test?\n",
        "\n",
        "*Hint: You might want to compare some models to others.*"
      ]
    },
    {
      "cell_type": "markdown",
      "source": [
        "This is solved by actually consiering differences between alternative A and B. We could, for example, create ASC for each alternative and compare the model to the reference one. If it is a better fit, then there is some systematic effect."
      ],
      "metadata": {
        "id": "gGIyThArGo71"
      }
    },
    {
      "cell_type": "code",
      "execution_count": 35,
      "metadata": {
        "id": "DFwvTgCHfOee"
      },
      "outputs": [],
      "source": []
    },
    {
      "cell_type": "markdown",
      "metadata": {
        "id": "FDCpoltDfjjB"
      },
      "source": [
        "#9) Based on the experiment, the government is thinking about increasing the number of schools in the area, with the idea of reducing the distance that the children have to travel. Assume that the rows of data in the survey represent the population. Building one school in the area would reduce the distance by 10%, two schools would reduce the distance by 15%, three schools would reduce the distance by 18%. Assuming a budget of 4 million dollars to build one school, how many schools should we build if we want to generate a net benefit for the population in less than 30 years?.\n",
        "\n",
        "\n",
        "*Hint: It can be 0, 1, 2 or 3, the net benefit can come from WTP*"
      ]
    },
    {
      "cell_type": "markdown",
      "source": [
        "This one is explained on ED"
      ],
      "metadata": {
        "id": "-U79PJPPIli3"
      }
    },
    {
      "cell_type": "code",
      "execution_count": 35,
      "metadata": {
        "id": "OyfuPgUyfjML"
      },
      "outputs": [],
      "source": []
    },
    {
      "cell_type": "markdown",
      "metadata": {
        "id": "IRScONFcfAth"
      },
      "source": [
        "# A1) Use a fixed effects model to estimate whether male-children households are less affected by distance than female-children households."
      ]
    },
    {
      "cell_type": "markdown",
      "source": [
        "This one is explained on ED"
      ],
      "metadata": {
        "id": "OpG8LzDwIp0G"
      }
    },
    {
      "cell_type": "code",
      "execution_count": 35,
      "metadata": {
        "id": "g5vw1JX7fCmz"
      },
      "outputs": [],
      "source": []
    },
    {
      "cell_type": "markdown",
      "metadata": {
        "id": "ObvTp2jUQz7n"
      },
      "source": [
        "# A2) In an alternative view of the dataset, we want to study the education level as the choice variable. Using as covariates the attributes of option 'A' and the characteristics, fit an ordered logit and comment on the results."
      ]
    },
    {
      "cell_type": "code",
      "execution_count": 35,
      "metadata": {
        "id": "8yIF12bQVmfe"
      },
      "outputs": [],
      "source": []
    },
    {
      "cell_type": "markdown",
      "metadata": {
        "id": "qz8eXXjiVnv0"
      },
      "source": [
        "# A3) Continuing on the alternative view: Compare two different orders to the default order given in the dataset, and decide if they are better than the default."
      ]
    },
    {
      "cell_type": "code",
      "execution_count": 35,
      "metadata": {
        "id": "8qpW86kGnUw8"
      },
      "outputs": [],
      "source": []
    }
  ],
  "metadata": {
    "colab": {
      "collapsed_sections": [],
      "provenance": [],
      "include_colab_link": true
    },
    "kernelspec": {
      "display_name": "Python 3 (ipykernel)",
      "language": "python",
      "name": "python3"
    },
    "language_info": {
      "codemirror_mode": {
        "name": "ipython",
        "version": 3
      },
      "file_extension": ".py",
      "mimetype": "text/x-python",
      "name": "python",
      "nbconvert_exporter": "python",
      "pygments_lexer": "ipython3",
      "version": "3.9.12"
    }
  },
  "nbformat": 4,
  "nbformat_minor": 0
}