{
  "nbformat": 4,
  "nbformat_minor": 0,
  "metadata": {
    "colab": {
      "name": "tuto_06_panel_mixed_logit",
      "provenance": [],
      "authorship_tag": "ABX9TyPIFWUo7YFpUEdKARVoZOZj",
      "include_colab_link": true
    },
    "kernelspec": {
      "name": "python3",
      "display_name": "Python 3"
    },
    "language_info": {
      "name": "python"
    }
  },
  "cells": [
    {
      "cell_type": "markdown",
      "metadata": {
        "id": "view-in-github",
        "colab_type": "text"
      },
      "source": [
        "<a href=\"https://colab.research.google.com/github/pmontman/M4metaresults/blob/master/nb/tuto_06_panel_mixed_logit.ipynb\" target=\"_parent\"><img src=\"https://colab.research.google.com/assets/colab-badge.svg\" alt=\"Open In Colab\"/></a>"
      ]
    },
    {
      "cell_type": "markdown",
      "metadata": {
        "id": "RK_QlIPgbjtB"
      },
      "source": [
        "# Tutorial 6: Panel data and mixed logit\n",
        "\n",
        "We will analyze a marketing dataset, of choice of brand of catsup (a.k.a. ketchup or 'tomato sauce' in Australia).\n",
        "\n",
        "We have two famous brands of catsup and 3 different package sizes.\n",
        "\n",
        "A description of the dataset can befound [here](https://www.tandfonline.com/doi/pdf/10.1080/07350015.1994.10524547?casa_token=r4LpjVvgDW4AAAAA:FVG8mEexsQ37tJ2bvk7oxZZ9K_jvvMJ2WxglLzBaHQD0_0REkXmKGsPPxXw_LRGwN3YHY8-L-k8U)\n",
        "\n",
        "It is takend from the mlogit R package (another good source for datasets)."
      ]
    },
    {
      "cell_type": "markdown",
      "metadata": {
        "id": "JyzPlsofdvaG"
      },
      "source": [
        "# Description of the dataset\n",
        "\n",
        "* **id**: household identifiers,\n",
        "* **choice**: one of heinz41, heinz32, heinz28, hunts32.\n",
        "* **disp_x**: is there a display for brand X ?\n",
        "* **feat_x**: is there a newspaper feature advertisement for brand x?\n",
        "* **price_x**: price of brand x"
      ]
    },
    {
      "cell_type": "markdown",
      "metadata": {
        "id": "vb9SIunnASNB"
      },
      "source": [
        "---\n",
        "---\n",
        "\n",
        "# Preparing the environment\n",
        "*The preparation and dataset loading code is given to the students*"
      ]
    },
    {
      "cell_type": "code",
      "metadata": {
        "colab": {
          "base_uri": "https://localhost:8080/"
        },
        "id": "j5zHGhgErHPd",
        "outputId": "a0174245-bbf6-4661-cb31-c25a78ee5f12"
      },
      "source": [
        "!pip install biogeme"
      ],
      "execution_count": 1,
      "outputs": [
        {
          "output_type": "stream",
          "name": "stdout",
          "text": [
            "Requirement already satisfied: biogeme in /usr/local/lib/python3.7/dist-packages (3.2.8)\n",
            "Requirement already satisfied: pandas in /usr/local/lib/python3.7/dist-packages (from biogeme) (1.1.5)\n",
            "Requirement already satisfied: tqdm in /usr/local/lib/python3.7/dist-packages (from biogeme) (4.62.3)\n",
            "Requirement already satisfied: cython in /usr/local/lib/python3.7/dist-packages (from biogeme) (0.29.24)\n",
            "Requirement already satisfied: scipy in /usr/local/lib/python3.7/dist-packages (from biogeme) (1.4.1)\n",
            "Requirement already satisfied: numpy in /usr/local/lib/python3.7/dist-packages (from biogeme) (1.19.5)\n",
            "Requirement already satisfied: unidecode in /usr/local/lib/python3.7/dist-packages (from biogeme) (1.3.2)\n",
            "Requirement already satisfied: pytz>=2017.2 in /usr/local/lib/python3.7/dist-packages (from pandas->biogeme) (2018.9)\n",
            "Requirement already satisfied: python-dateutil>=2.7.3 in /usr/local/lib/python3.7/dist-packages (from pandas->biogeme) (2.8.2)\n",
            "Requirement already satisfied: six>=1.5 in /usr/local/lib/python3.7/dist-packages (from python-dateutil>=2.7.3->pandas->biogeme) (1.15.0)\n"
          ]
        }
      ]
    },
    {
      "cell_type": "markdown",
      "metadata": {
        "id": "1z0X9xZ8rChf"
      },
      "source": [
        "Load the packages, feel free to change the names."
      ]
    },
    {
      "cell_type": "code",
      "metadata": {
        "id": "apVB-TMkrFnb"
      },
      "source": [
        "import pandas  as pd\n",
        "import numpy as np\n",
        "import matplotlib.pyplot as plt\n",
        "\n",
        "import biogeme.database as db\n",
        "import biogeme.biogeme as bio\n",
        "import biogeme.models as models\n",
        "import biogeme.expressions as exp\n",
        "import biogeme.tools as tools\n",
        "import biogeme.distributions as dist"
      ],
      "execution_count": 2,
      "outputs": []
    },
    {
      "cell_type": "markdown",
      "metadata": {
        "id": "Mgv0hV1YAieW"
      },
      "source": [
        "# Load the dataset"
      ]
    },
    {
      "cell_type": "code",
      "metadata": {
        "id": "g1Ykn5Ytr7Rs"
      },
      "source": [
        "path = 'https://raw.githubusercontent.com/pmontman/pub-choicemodels/main/data/catsup.csv'\n",
        "catsup_pd = pd.read_csv(path)"
      ],
      "execution_count": 3,
      "outputs": []
    },
    {
      "cell_type": "markdown",
      "metadata": {
        "id": "ZY55r3Gesb3t"
      },
      "source": [
        "\n",
        "In this case, notice the id variable, that identifies each household, so we have data from many choice situations for each household. We have also different amount of observations per household."
      ]
    },
    {
      "cell_type": "code",
      "metadata": {
        "colab": {
          "base_uri": "https://localhost:8080/",
          "height": 853
        },
        "id": "ldkmnMhssemT",
        "outputId": "64ab81dd-c09d-4d79-92f7-a6436d869afb"
      },
      "source": [
        "catsup_pd.head(25)"
      ],
      "execution_count": 4,
      "outputs": [
        {
          "output_type": "execute_result",
          "data": {
            "text/html": [
              "<div>\n",
              "<style scoped>\n",
              "    .dataframe tbody tr th:only-of-type {\n",
              "        vertical-align: middle;\n",
              "    }\n",
              "\n",
              "    .dataframe tbody tr th {\n",
              "        vertical-align: top;\n",
              "    }\n",
              "\n",
              "    .dataframe thead th {\n",
              "        text-align: right;\n",
              "    }\n",
              "</style>\n",
              "<table border=\"1\" class=\"dataframe\">\n",
              "  <thead>\n",
              "    <tr style=\"text-align: right;\">\n",
              "      <th></th>\n",
              "      <th>id</th>\n",
              "      <th>disp_heinz41</th>\n",
              "      <th>disp_heinz32</th>\n",
              "      <th>disp_heinz28</th>\n",
              "      <th>disp_hunts32</th>\n",
              "      <th>feat_heinz41</th>\n",
              "      <th>feat_heinz32</th>\n",
              "      <th>feat_heinz28</th>\n",
              "      <th>feat_hunts32</th>\n",
              "      <th>price_heinz41</th>\n",
              "      <th>price_heinz32</th>\n",
              "      <th>price_heinz28</th>\n",
              "      <th>price_hunts32</th>\n",
              "      <th>choice</th>\n",
              "    </tr>\n",
              "  </thead>\n",
              "  <tbody>\n",
              "    <tr>\n",
              "      <th>0</th>\n",
              "      <td>1</td>\n",
              "      <td>0</td>\n",
              "      <td>0</td>\n",
              "      <td>0</td>\n",
              "      <td>0</td>\n",
              "      <td>0</td>\n",
              "      <td>0</td>\n",
              "      <td>0</td>\n",
              "      <td>0</td>\n",
              "      <td>4.6</td>\n",
              "      <td>3.7</td>\n",
              "      <td>5.2</td>\n",
              "      <td>3.4</td>\n",
              "      <td>heinz28</td>\n",
              "    </tr>\n",
              "    <tr>\n",
              "      <th>1</th>\n",
              "      <td>1</td>\n",
              "      <td>0</td>\n",
              "      <td>0</td>\n",
              "      <td>0</td>\n",
              "      <td>0</td>\n",
              "      <td>0</td>\n",
              "      <td>0</td>\n",
              "      <td>0</td>\n",
              "      <td>0</td>\n",
              "      <td>4.6</td>\n",
              "      <td>4.3</td>\n",
              "      <td>5.2</td>\n",
              "      <td>4.4</td>\n",
              "      <td>heinz28</td>\n",
              "    </tr>\n",
              "    <tr>\n",
              "      <th>2</th>\n",
              "      <td>1</td>\n",
              "      <td>0</td>\n",
              "      <td>0</td>\n",
              "      <td>0</td>\n",
              "      <td>0</td>\n",
              "      <td>0</td>\n",
              "      <td>1</td>\n",
              "      <td>0</td>\n",
              "      <td>0</td>\n",
              "      <td>4.6</td>\n",
              "      <td>2.5</td>\n",
              "      <td>4.6</td>\n",
              "      <td>4.8</td>\n",
              "      <td>heinz28</td>\n",
              "    </tr>\n",
              "    <tr>\n",
              "      <th>3</th>\n",
              "      <td>1</td>\n",
              "      <td>0</td>\n",
              "      <td>0</td>\n",
              "      <td>0</td>\n",
              "      <td>0</td>\n",
              "      <td>0</td>\n",
              "      <td>0</td>\n",
              "      <td>0</td>\n",
              "      <td>0</td>\n",
              "      <td>4.6</td>\n",
              "      <td>3.7</td>\n",
              "      <td>5.2</td>\n",
              "      <td>3.4</td>\n",
              "      <td>heinz28</td>\n",
              "    </tr>\n",
              "    <tr>\n",
              "      <th>4</th>\n",
              "      <td>1</td>\n",
              "      <td>0</td>\n",
              "      <td>0</td>\n",
              "      <td>0</td>\n",
              "      <td>0</td>\n",
              "      <td>0</td>\n",
              "      <td>0</td>\n",
              "      <td>1</td>\n",
              "      <td>0</td>\n",
              "      <td>4.6</td>\n",
              "      <td>3.0</td>\n",
              "      <td>4.6</td>\n",
              "      <td>4.8</td>\n",
              "      <td>heinz28</td>\n",
              "    </tr>\n",
              "    <tr>\n",
              "      <th>5</th>\n",
              "      <td>1</td>\n",
              "      <td>0</td>\n",
              "      <td>0</td>\n",
              "      <td>0</td>\n",
              "      <td>0</td>\n",
              "      <td>0</td>\n",
              "      <td>0</td>\n",
              "      <td>0</td>\n",
              "      <td>0</td>\n",
              "      <td>5.0</td>\n",
              "      <td>3.0</td>\n",
              "      <td>4.7</td>\n",
              "      <td>3.0</td>\n",
              "      <td>heinz28</td>\n",
              "    </tr>\n",
              "    <tr>\n",
              "      <th>6</th>\n",
              "      <td>1</td>\n",
              "      <td>0</td>\n",
              "      <td>0</td>\n",
              "      <td>0</td>\n",
              "      <td>1</td>\n",
              "      <td>0</td>\n",
              "      <td>0</td>\n",
              "      <td>0</td>\n",
              "      <td>1</td>\n",
              "      <td>5.1</td>\n",
              "      <td>3.1</td>\n",
              "      <td>4.6</td>\n",
              "      <td>4.1</td>\n",
              "      <td>heinz28</td>\n",
              "    </tr>\n",
              "    <tr>\n",
              "      <th>7</th>\n",
              "      <td>1</td>\n",
              "      <td>0</td>\n",
              "      <td>0</td>\n",
              "      <td>0</td>\n",
              "      <td>0</td>\n",
              "      <td>0</td>\n",
              "      <td>0</td>\n",
              "      <td>0</td>\n",
              "      <td>0</td>\n",
              "      <td>4.6</td>\n",
              "      <td>3.4</td>\n",
              "      <td>4.7</td>\n",
              "      <td>3.1</td>\n",
              "      <td>heinz41</td>\n",
              "    </tr>\n",
              "    <tr>\n",
              "      <th>8</th>\n",
              "      <td>1</td>\n",
              "      <td>0</td>\n",
              "      <td>0</td>\n",
              "      <td>0</td>\n",
              "      <td>0</td>\n",
              "      <td>0</td>\n",
              "      <td>0</td>\n",
              "      <td>0</td>\n",
              "      <td>0</td>\n",
              "      <td>5.0</td>\n",
              "      <td>3.4</td>\n",
              "      <td>4.7</td>\n",
              "      <td>3.1</td>\n",
              "      <td>heinz28</td>\n",
              "    </tr>\n",
              "    <tr>\n",
              "      <th>9</th>\n",
              "      <td>1</td>\n",
              "      <td>0</td>\n",
              "      <td>0</td>\n",
              "      <td>0</td>\n",
              "      <td>1</td>\n",
              "      <td>0</td>\n",
              "      <td>0</td>\n",
              "      <td>0</td>\n",
              "      <td>0</td>\n",
              "      <td>5.0</td>\n",
              "      <td>3.4</td>\n",
              "      <td>5.0</td>\n",
              "      <td>2.8</td>\n",
              "      <td>heinz28</td>\n",
              "    </tr>\n",
              "    <tr>\n",
              "      <th>10</th>\n",
              "      <td>1</td>\n",
              "      <td>0</td>\n",
              "      <td>0</td>\n",
              "      <td>0</td>\n",
              "      <td>0</td>\n",
              "      <td>0</td>\n",
              "      <td>0</td>\n",
              "      <td>0</td>\n",
              "      <td>0</td>\n",
              "      <td>4.5</td>\n",
              "      <td>3.2</td>\n",
              "      <td>5.0</td>\n",
              "      <td>4.1</td>\n",
              "      <td>heinz28</td>\n",
              "    </tr>\n",
              "    <tr>\n",
              "      <th>11</th>\n",
              "      <td>1</td>\n",
              "      <td>0</td>\n",
              "      <td>0</td>\n",
              "      <td>0</td>\n",
              "      <td>0</td>\n",
              "      <td>0</td>\n",
              "      <td>0</td>\n",
              "      <td>0</td>\n",
              "      <td>0</td>\n",
              "      <td>5.0</td>\n",
              "      <td>3.7</td>\n",
              "      <td>5.0</td>\n",
              "      <td>3.4</td>\n",
              "      <td>heinz28</td>\n",
              "    </tr>\n",
              "    <tr>\n",
              "      <th>12</th>\n",
              "      <td>1</td>\n",
              "      <td>0</td>\n",
              "      <td>0</td>\n",
              "      <td>0</td>\n",
              "      <td>0</td>\n",
              "      <td>0</td>\n",
              "      <td>0</td>\n",
              "      <td>0</td>\n",
              "      <td>0</td>\n",
              "      <td>5.0</td>\n",
              "      <td>3.7</td>\n",
              "      <td>5.3</td>\n",
              "      <td>3.7</td>\n",
              "      <td>heinz28</td>\n",
              "    </tr>\n",
              "    <tr>\n",
              "      <th>13</th>\n",
              "      <td>1</td>\n",
              "      <td>0</td>\n",
              "      <td>0</td>\n",
              "      <td>1</td>\n",
              "      <td>0</td>\n",
              "      <td>0</td>\n",
              "      <td>0</td>\n",
              "      <td>0</td>\n",
              "      <td>0</td>\n",
              "      <td>5.2</td>\n",
              "      <td>3.7</td>\n",
              "      <td>3.6</td>\n",
              "      <td>3.7</td>\n",
              "      <td>heinz28</td>\n",
              "    </tr>\n",
              "    <tr>\n",
              "      <th>14</th>\n",
              "      <td>2</td>\n",
              "      <td>0</td>\n",
              "      <td>0</td>\n",
              "      <td>0</td>\n",
              "      <td>0</td>\n",
              "      <td>0</td>\n",
              "      <td>0</td>\n",
              "      <td>0</td>\n",
              "      <td>0</td>\n",
              "      <td>4.6</td>\n",
              "      <td>3.7</td>\n",
              "      <td>5.2</td>\n",
              "      <td>3.7</td>\n",
              "      <td>heinz28</td>\n",
              "    </tr>\n",
              "    <tr>\n",
              "      <th>15</th>\n",
              "      <td>2</td>\n",
              "      <td>0</td>\n",
              "      <td>0</td>\n",
              "      <td>0</td>\n",
              "      <td>0</td>\n",
              "      <td>0</td>\n",
              "      <td>0</td>\n",
              "      <td>0</td>\n",
              "      <td>0</td>\n",
              "      <td>4.6</td>\n",
              "      <td>3.1</td>\n",
              "      <td>5.2</td>\n",
              "      <td>3.4</td>\n",
              "      <td>heinz32</td>\n",
              "    </tr>\n",
              "    <tr>\n",
              "      <th>16</th>\n",
              "      <td>2</td>\n",
              "      <td>0</td>\n",
              "      <td>0</td>\n",
              "      <td>0</td>\n",
              "      <td>0</td>\n",
              "      <td>0</td>\n",
              "      <td>0</td>\n",
              "      <td>0</td>\n",
              "      <td>0</td>\n",
              "      <td>4.6</td>\n",
              "      <td>1.8</td>\n",
              "      <td>5.2</td>\n",
              "      <td>3.4</td>\n",
              "      <td>heinz32</td>\n",
              "    </tr>\n",
              "    <tr>\n",
              "      <th>17</th>\n",
              "      <td>2</td>\n",
              "      <td>0</td>\n",
              "      <td>0</td>\n",
              "      <td>0</td>\n",
              "      <td>0</td>\n",
              "      <td>1</td>\n",
              "      <td>0</td>\n",
              "      <td>0</td>\n",
              "      <td>0</td>\n",
              "      <td>4.6</td>\n",
              "      <td>3.1</td>\n",
              "      <td>4.2</td>\n",
              "      <td>3.5</td>\n",
              "      <td>heinz28</td>\n",
              "    </tr>\n",
              "    <tr>\n",
              "      <th>18</th>\n",
              "      <td>2</td>\n",
              "      <td>0</td>\n",
              "      <td>0</td>\n",
              "      <td>0</td>\n",
              "      <td>0</td>\n",
              "      <td>0</td>\n",
              "      <td>0</td>\n",
              "      <td>0</td>\n",
              "      <td>0</td>\n",
              "      <td>5.0</td>\n",
              "      <td>3.4</td>\n",
              "      <td>5.0</td>\n",
              "      <td>3.1</td>\n",
              "      <td>heinz28</td>\n",
              "    </tr>\n",
              "    <tr>\n",
              "      <th>19</th>\n",
              "      <td>2</td>\n",
              "      <td>0</td>\n",
              "      <td>0</td>\n",
              "      <td>0</td>\n",
              "      <td>0</td>\n",
              "      <td>0</td>\n",
              "      <td>0</td>\n",
              "      <td>0</td>\n",
              "      <td>0</td>\n",
              "      <td>4.4</td>\n",
              "      <td>3.7</td>\n",
              "      <td>4.3</td>\n",
              "      <td>3.4</td>\n",
              "      <td>heinz28</td>\n",
              "    </tr>\n",
              "    <tr>\n",
              "      <th>20</th>\n",
              "      <td>2</td>\n",
              "      <td>0</td>\n",
              "      <td>0</td>\n",
              "      <td>0</td>\n",
              "      <td>0</td>\n",
              "      <td>0</td>\n",
              "      <td>0</td>\n",
              "      <td>0</td>\n",
              "      <td>0</td>\n",
              "      <td>5.0</td>\n",
              "      <td>3.7</td>\n",
              "      <td>3.9</td>\n",
              "      <td>3.7</td>\n",
              "      <td>heinz28</td>\n",
              "    </tr>\n",
              "    <tr>\n",
              "      <th>21</th>\n",
              "      <td>3</td>\n",
              "      <td>0</td>\n",
              "      <td>0</td>\n",
              "      <td>0</td>\n",
              "      <td>0</td>\n",
              "      <td>0</td>\n",
              "      <td>0</td>\n",
              "      <td>0</td>\n",
              "      <td>0</td>\n",
              "      <td>4.6</td>\n",
              "      <td>2.8</td>\n",
              "      <td>5.2</td>\n",
              "      <td>3.6</td>\n",
              "      <td>heinz32</td>\n",
              "    </tr>\n",
              "    <tr>\n",
              "      <th>22</th>\n",
              "      <td>3</td>\n",
              "      <td>0</td>\n",
              "      <td>0</td>\n",
              "      <td>0</td>\n",
              "      <td>0</td>\n",
              "      <td>0</td>\n",
              "      <td>0</td>\n",
              "      <td>0</td>\n",
              "      <td>0</td>\n",
              "      <td>4.6</td>\n",
              "      <td>3.7</td>\n",
              "      <td>5.2</td>\n",
              "      <td>3.4</td>\n",
              "      <td>heinz32</td>\n",
              "    </tr>\n",
              "    <tr>\n",
              "      <th>23</th>\n",
              "      <td>3</td>\n",
              "      <td>0</td>\n",
              "      <td>0</td>\n",
              "      <td>0</td>\n",
              "      <td>0</td>\n",
              "      <td>0</td>\n",
              "      <td>0</td>\n",
              "      <td>0</td>\n",
              "      <td>0</td>\n",
              "      <td>4.6</td>\n",
              "      <td>2.8</td>\n",
              "      <td>5.2</td>\n",
              "      <td>3.7</td>\n",
              "      <td>heinz32</td>\n",
              "    </tr>\n",
              "    <tr>\n",
              "      <th>24</th>\n",
              "      <td>3</td>\n",
              "      <td>0</td>\n",
              "      <td>0</td>\n",
              "      <td>0</td>\n",
              "      <td>0</td>\n",
              "      <td>0</td>\n",
              "      <td>0</td>\n",
              "      <td>0</td>\n",
              "      <td>0</td>\n",
              "      <td>4.6</td>\n",
              "      <td>3.7</td>\n",
              "      <td>4.7</td>\n",
              "      <td>3.5</td>\n",
              "      <td>heinz32</td>\n",
              "    </tr>\n",
              "  </tbody>\n",
              "</table>\n",
              "</div>"
            ],
            "text/plain": [
              "    id  disp_heinz41  disp_heinz32  ...  price_heinz28  price_hunts32   choice\n",
              "0    1             0             0  ...            5.2            3.4  heinz28\n",
              "1    1             0             0  ...            5.2            4.4  heinz28\n",
              "2    1             0             0  ...            4.6            4.8  heinz28\n",
              "3    1             0             0  ...            5.2            3.4  heinz28\n",
              "4    1             0             0  ...            4.6            4.8  heinz28\n",
              "5    1             0             0  ...            4.7            3.0  heinz28\n",
              "6    1             0             0  ...            4.6            4.1  heinz28\n",
              "7    1             0             0  ...            4.7            3.1  heinz41\n",
              "8    1             0             0  ...            4.7            3.1  heinz28\n",
              "9    1             0             0  ...            5.0            2.8  heinz28\n",
              "10   1             0             0  ...            5.0            4.1  heinz28\n",
              "11   1             0             0  ...            5.0            3.4  heinz28\n",
              "12   1             0             0  ...            5.3            3.7  heinz28\n",
              "13   1             0             0  ...            3.6            3.7  heinz28\n",
              "14   2             0             0  ...            5.2            3.7  heinz28\n",
              "15   2             0             0  ...            5.2            3.4  heinz32\n",
              "16   2             0             0  ...            5.2            3.4  heinz32\n",
              "17   2             0             0  ...            4.2            3.5  heinz28\n",
              "18   2             0             0  ...            5.0            3.1  heinz28\n",
              "19   2             0             0  ...            4.3            3.4  heinz28\n",
              "20   2             0             0  ...            3.9            3.7  heinz28\n",
              "21   3             0             0  ...            5.2            3.6  heinz32\n",
              "22   3             0             0  ...            5.2            3.4  heinz32\n",
              "23   3             0             0  ...            5.2            3.7  heinz32\n",
              "24   3             0             0  ...            4.7            3.5  heinz32\n",
              "\n",
              "[25 rows x 14 columns]"
            ]
          },
          "metadata": {},
          "execution_count": 4
        }
      ]
    },
    {
      "cell_type": "markdown",
      "metadata": {
        "id": "75S5mV9mG_i8"
      },
      "source": [
        "# Auxiliary function"
      ]
    },
    {
      "cell_type": "code",
      "metadata": {
        "id": "kkHePFuDHB6L"
      },
      "source": [
        "def qbus_update_globals_bgm(pd_df):\n",
        "   globals().update(db.Database('tmp_bg_bgm_for_glob', pd_df).variables)"
      ],
      "execution_count": 5,
      "outputs": []
    },
    {
      "cell_type": "markdown",
      "metadata": {
        "id": "IT44SQAUAVT5"
      },
      "source": [
        "# Data cleaning: Preparing the dataset for Biogeme"
      ]
    },
    {
      "cell_type": "markdown",
      "metadata": {
        "id": "yTEgKQ0HAY8c"
      },
      "source": [
        "Encode the choice variable (a string) into numbers with the `factorize` function.\n",
        "We take a look at the codetable to know how the numbers are mapped to the alternatives. The order of the codetable indicates the association,\n",
        "0: heinz28, 1: heinz41 and so on."
      ]
    },
    {
      "cell_type": "code",
      "metadata": {
        "id": "3161scmJOPG8"
      },
      "source": [
        "catsup_pd['choice'], codetable = catsup_pd['choice'].factorize()"
      ],
      "execution_count": 6,
      "outputs": []
    },
    {
      "cell_type": "code",
      "metadata": {
        "colab": {
          "base_uri": "https://localhost:8080/"
        },
        "id": "AYqojw_PIpss",
        "outputId": "c2800fa7-4a50-41b4-b95e-1c28f1333a0e"
      },
      "source": [
        "codetable"
      ],
      "execution_count": 7,
      "outputs": [
        {
          "output_type": "execute_result",
          "data": {
            "text/plain": [
              "Index(['heinz28', 'heinz41', 'heinz32', 'hunts32'], dtype='object')"
            ]
          },
          "metadata": {},
          "execution_count": 7
        }
      ]
    },
    {
      "cell_type": "markdown",
      "metadata": {
        "id": "FIyH5krhxwYI"
      },
      "source": [
        "#Capturing agent effect through mixed logit"
      ]
    },
    {
      "cell_type": "code",
      "metadata": {
        "id": "lo-Nu7ovxnoE"
      },
      "source": [
        "\n",
        "# Define level of verbosity\n",
        "import biogeme.messaging as msg\n",
        "logger = msg.bioMessage()\n",
        "logger.setSilent()\n"
      ],
      "execution_count": 8,
      "outputs": []
    },
    {
      "cell_type": "markdown",
      "metadata": {
        "id": "7IUIcyRKdyFK"
      },
      "source": [
        "We will have to use some additional functionalities of biogeme so the auxiliary functions cannot be used. So we have to create the biogeme database manually."
      ]
    },
    {
      "cell_type": "code",
      "metadata": {
        "id": "0OkXWfTDD6MH"
      },
      "source": [
        "database = db.Database(\"catsup\", catsup_pd)"
      ],
      "execution_count": 9,
      "outputs": []
    },
    {
      "cell_type": "markdown",
      "metadata": {
        "id": "RdDbQihqlofz"
      },
      "source": [
        "This line of code tells biogeme to use the variable id in the dataset as the identifier of the individuals to treat them as panel data (if not, it will take observations as if they were independent)."
      ]
    },
    {
      "cell_type": "code",
      "metadata": {
        "id": "1XR-Gpjdln6Z"
      },
      "source": [
        "database.panel(\"id\")"
      ],
      "execution_count": 10,
      "outputs": []
    },
    {
      "cell_type": "markdown",
      "metadata": {
        "id": "k7iWoF9Ho_Pd"
      },
      "source": [
        "We now declare the coefficients in our model, we will make a simple model,\n",
        "just the alternative-specif constants and the variables disp, feat and price."
      ]
    },
    {
      "cell_type": "code",
      "metadata": {
        "id": "tI5UVDAZEfHn"
      },
      "source": [
        "ASC_heinz41 = exp.Beta('ASC_heinz41',0,None,None,0)\n",
        "ASC_heinz32  = exp.Beta('ASC_heinz32 ',0,None,None,0)\n",
        "ASC_heinz28 = exp.Beta('ASC_heinz28',0,None,None,1)\n",
        "ASC_hunts32 = exp.Beta('ASC_hunts32',0,None,None,1)\n",
        "\n",
        "B_disp = exp.Beta('B_disp',0,None,None,0)\n",
        "B_feat = exp.Beta('B_feat',0,None,None,0)\n",
        "B_price = exp.Beta('B_price',0,None,None,0)"
      ],
      "execution_count": 11,
      "outputs": []
    },
    {
      "cell_type": "markdown",
      "metadata": {
        "id": "eBjTzPNCoh0A"
      },
      "source": [
        "Now comes the **important part**, the definition of the random effects in the model!\n",
        "\n",
        "We want to consider a simple constant agent effect.\n",
        "Recall the definition:\n",
        "\n",
        "$$V_{jit} = \\beta X_{jit} + \\alpha_{ij}$$\n",
        "and we have to specifiy the distribition of the $\\alpha$. In this case, we will use the normal, so $\\alpha_{ij} \\in N(\\mu_j, \\sigma_j^2)$.\n",
        "The ingredients are:\n",
        " 1) Probability distrbitution: We set it ourselves, the normal (we could have set others, such as the uniform, lognormal and so on.\n",
        " 2) Parameters of the probability distribution (the $\\mu$ and $\\sigma$): They will be estimated from the data.\n",
        "\n",
        " If we think for a moment, the $\\mu$ of this distribution will also depend on the values of the alternative-specific constants (ASC), since changing $mu$ essential mean adding a constant to all values coming for that distribution. We can think that the mean of that distribution will be 'absorbed' by the ASCs.\n",
        "Again this is just another convention!\n",
        "\n",
        "What we end up doing in biogeme is that we will only declare the parameter for the standard deviation, so each normal distribution will be mean 0 and std.dev to determine from the data. \n"
      ]
    },
    {
      "cell_type": "markdown",
      "metadata": {
        "id": "i7WN4frIs5cY"
      },
      "source": [
        "In terms of code, we delcare the std.devs (the $\\sigma_j$} just as any other parameter. We have to set on of them to 0 to act as reference (remember that changes in scale do not affect utility)."
      ]
    },
    {
      "cell_type": "code",
      "metadata": {
        "id": "DmTyw30sohMo"
      },
      "source": [
        "\n",
        "SIGMA_heinz41 = exp.Beta('SIGMA_heinz41',0,0,None,0)\n",
        "SIGMA_heinz32 = exp.Beta('SIGMA_heinz32',0,0,None, 1)\n",
        "SIGMA_heinz28 = exp.Beta('SIGMA_heinz28',0,0,None,0)\n",
        "SIGMA_hunts32 = exp.Beta('SIGMA_hunts32',0,0,None,0)\n"
      ],
      "execution_count": 12,
      "outputs": []
    },
    {
      "cell_type": "markdown",
      "metadata": {
        "id": "ff-rLzfTtLNV"
      },
      "source": [
        "And the following code is how we tell biogeme that the parameters are random.\n",
        "The `EC_`s are the agent effects. The key function that indicate randomness is the biogeme function `exp.bioDraws`, that indicates that they are random, drawn from a probability distribution. The second argument specifies the distribution, some possible values are `'NORMAL'` `'UNIFORMSYM'`."
      ]
    },
    {
      "cell_type": "code",
      "metadata": {
        "id": "eG2K9AAgtJQd"
      },
      "source": [
        "\n",
        "# Define random parameters, normally distributed across individuals,\n",
        "# designed to be used for Monte-Carlo simulation\n",
        "EC_heinz41 = SIGMA_heinz41 * exp.bioDraws('EC_heinz41','NORMAL')\n",
        "EC_heinz32 = SIGMA_heinz32 * exp.bioDraws('EC_heinz32','NORMAL')\n",
        "EC_heinz28 = SIGMA_heinz28 * exp.bioDraws('EC_heinz28','NORMAL')\n",
        "EC_hunts32 = SIGMA_hunts32 * exp.bioDraws('EC_hunts32','NORMAL')"
      ],
      "execution_count": 13,
      "outputs": []
    },
    {
      "cell_type": "markdown",
      "metadata": {
        "id": "ropgcbeduC7I"
      },
      "source": [
        "An this is how the specification of the utility functions looks like in the end.\n",
        "The Betas (disp, feat and price) and ASCsare fixed effect, while the EC are random."
      ]
    },
    {
      "cell_type": "code",
      "metadata": {
        "id": "n3xJhAWeIam9"
      },
      "source": [
        "globals().update(database.variables)\n",
        "# Definition of the utility functions\n",
        "V_heinz41 = ASC_heinz41 + B_disp *disp_heinz41 + B_feat * feat_heinz41 + B_price * price_heinz41 + EC_heinz41\n",
        "V_heinz32 = ASC_heinz32 + B_disp *disp_heinz32 + B_feat * feat_heinz32 + B_price * price_heinz32 + EC_heinz32\n",
        "V_heinz28 = ASC_heinz28 + B_disp *disp_heinz28 + B_feat * feat_heinz28 + B_price * price_heinz28 + EC_heinz28\n",
        "V_hunts32 = ASC_hunts32 + B_disp *disp_hunts32 + B_feat * feat_hunts32 + B_price * price_hunts32 + EC_hunts32"
      ],
      "execution_count": 14,
      "outputs": []
    },
    {
      "cell_type": "markdown",
      "metadata": {
        "id": "f3IvSmrBubnJ"
      },
      "source": [
        "We create the dictionary that maps to the alternatives. **Remember to be careful here.** The numbers should match the alternatives as we indicated by the factorize() transformation at the beginning of the notebook.\n",
        "Availabilities are not considered here, we set them to 1.\n",
        "Finaly, we specify the logit model, as usual.\n",
        "These steps are common to the multinomial logit."
      ]
    },
    {
      "cell_type": "code",
      "metadata": {
        "id": "vsqzjkqUJnmp"
      },
      "source": [
        "# Associate utility functions with the numbering of alternatives\n",
        "V = {0: V_heinz28,\n",
        "     1: V_heinz41,\n",
        "     2: V_heinz32,\n",
        "     3: V_hunts32}\n",
        "\n",
        "av = {0: 1,\n",
        "     1: 1,\n",
        "     2: 1,\n",
        "     3: 1}\n",
        "\n",
        "# Conditional to the random variables, the likelihood of one observation is\n",
        "# given by the logit model (called the kernel)\n",
        "obsprob = models.logit(V,av, choice)\n"
      ],
      "execution_count": 15,
      "outputs": []
    },
    {
      "cell_type": "markdown",
      "metadata": {
        "id": "k8p-NwHVu54l"
      },
      "source": [
        "The difference from the usual declaration of the MNL comes now.\n",
        "\n",
        "We have to do two new steps:\n",
        "\n",
        "1. Tell biogeme to consider the panel nature of the data.\n",
        "2. Tell biogeme to calculate the choice probabilities by simulation. This is how we deal with the random parameters. We simulate for the distribution, and the we calculate the likelihood for that distribution."
      ]
    },
    {
      "cell_type": "markdown",
      "metadata": {
        "id": "B73hgpXTybO0"
      },
      "source": [
        "Step 1: we can do it by modifying the model with the expression `exp.PanelLikelihoodTrajectory`."
      ]
    },
    {
      "cell_type": "code",
      "metadata": {
        "id": "BMrTTiT7uizv"
      },
      "source": [
        "condprobIndiv = exp.PanelLikelihoodTrajectory(obsprob)"
      ],
      "execution_count": 16,
      "outputs": []
    },
    {
      "cell_type": "markdown",
      "metadata": {
        "id": "UfPNY5auywhh"
      },
      "source": [
        "And Step 2 we take the model and the modifyi it by the expresion `exp.MonteCarlo`. The final log it to take the loglikelihood."
      ]
    },
    {
      "cell_type": "code",
      "metadata": {
        "id": "PS69PxS9yAGG"
      },
      "source": [
        "logprob = exp.log(exp.MonteCarlo(condprobIndiv))"
      ],
      "execution_count": 17,
      "outputs": []
    },
    {
      "cell_type": "markdown",
      "metadata": {
        "id": "MRtpFZRayEde"
      },
      "source": [
        "We we are using simulation, we have to tell biogeme how many draws from the distribution are we going to generate. The more draws, the more accurate estimation, but it is compuationally costly.\n",
        "\n",
        "We also set up a seed, so we can get the same results if the run the notebook again (setting up a seed is a good habit in general)"
      ]
    },
    {
      "cell_type": "code",
      "metadata": {
        "id": "iQ4kHXoaxoY8"
      },
      "source": [
        "\n",
        "# Create the Biogeme object\n",
        "biogeme  = bio.BIOGEME(database,logprob,numberOfDraws=250, seed=1)\n",
        "\n",
        "\n"
      ],
      "execution_count": 18,
      "outputs": []
    },
    {
      "cell_type": "markdown",
      "metadata": {
        "id": "NznXe9enzCJM"
      },
      "source": [
        "Estimation and results as usual."
      ]
    },
    {
      "cell_type": "code",
      "metadata": {
        "id": "FUAmEGgOyDsZ"
      },
      "source": [
        "\n",
        "# Estimate the parameters. \n",
        "results = biogeme.estimate()"
      ],
      "execution_count": 19,
      "outputs": []
    },
    {
      "cell_type": "markdown",
      "metadata": {
        "id": "uHsvEdkPzFqV"
      },
      "source": [
        "We take a look at the results,"
      ]
    },
    {
      "cell_type": "code",
      "metadata": {
        "colab": {
          "base_uri": "https://localhost:8080/",
          "height": 300
        },
        "id": "2fyrewHzPO0I",
        "outputId": "7dcbf259-0ce1-4fc2-916c-1472ee0d7a73"
      },
      "source": [
        "results.getEstimatedParameters()"
      ],
      "execution_count": 20,
      "outputs": [
        {
          "output_type": "execute_result",
          "data": {
            "text/html": [
              "<div>\n",
              "<style scoped>\n",
              "    .dataframe tbody tr th:only-of-type {\n",
              "        vertical-align: middle;\n",
              "    }\n",
              "\n",
              "    .dataframe tbody tr th {\n",
              "        vertical-align: top;\n",
              "    }\n",
              "\n",
              "    .dataframe thead th {\n",
              "        text-align: right;\n",
              "    }\n",
              "</style>\n",
              "<table border=\"1\" class=\"dataframe\">\n",
              "  <thead>\n",
              "    <tr style=\"text-align: right;\">\n",
              "      <th></th>\n",
              "      <th>Value</th>\n",
              "      <th>Active bound</th>\n",
              "      <th>Std err</th>\n",
              "      <th>t-test</th>\n",
              "      <th>p-value</th>\n",
              "      <th>Rob. Std err</th>\n",
              "      <th>Rob. t-test</th>\n",
              "      <th>Rob. p-value</th>\n",
              "    </tr>\n",
              "  </thead>\n",
              "  <tbody>\n",
              "    <tr>\n",
              "      <th>ASC_heinz32</th>\n",
              "      <td>-0.729645</td>\n",
              "      <td>0.0</td>\n",
              "      <td>8.312623e-02</td>\n",
              "      <td>-8.777548</td>\n",
              "      <td>0.000000e+00</td>\n",
              "      <td>0.151278</td>\n",
              "      <td>-4.823198</td>\n",
              "      <td>1.412747e-06</td>\n",
              "    </tr>\n",
              "    <tr>\n",
              "      <th>ASC_heinz41</th>\n",
              "      <td>-1.490036</td>\n",
              "      <td>0.0</td>\n",
              "      <td>1.517855e-01</td>\n",
              "      <td>-9.816716</td>\n",
              "      <td>0.000000e+00</td>\n",
              "      <td>0.136599</td>\n",
              "      <td>-10.908122</td>\n",
              "      <td>0.000000e+00</td>\n",
              "    </tr>\n",
              "    <tr>\n",
              "      <th>B_disp</th>\n",
              "      <td>1.043355</td>\n",
              "      <td>0.0</td>\n",
              "      <td>1.108189e-01</td>\n",
              "      <td>9.414955</td>\n",
              "      <td>0.000000e+00</td>\n",
              "      <td>0.128278</td>\n",
              "      <td>8.133542</td>\n",
              "      <td>4.440892e-16</td>\n",
              "    </tr>\n",
              "    <tr>\n",
              "      <th>B_feat</th>\n",
              "      <td>0.986969</td>\n",
              "      <td>0.0</td>\n",
              "      <td>1.237311e-01</td>\n",
              "      <td>7.976729</td>\n",
              "      <td>1.554312e-15</td>\n",
              "      <td>0.135843</td>\n",
              "      <td>7.265501</td>\n",
              "      <td>3.717027e-13</td>\n",
              "    </tr>\n",
              "    <tr>\n",
              "      <th>B_price</th>\n",
              "      <td>-1.272207</td>\n",
              "      <td>0.0</td>\n",
              "      <td>6.252270e-02</td>\n",
              "      <td>-20.347917</td>\n",
              "      <td>0.000000e+00</td>\n",
              "      <td>0.089295</td>\n",
              "      <td>-14.247292</td>\n",
              "      <td>0.000000e+00</td>\n",
              "    </tr>\n",
              "    <tr>\n",
              "      <th>SIGMA_heinz28</th>\n",
              "      <td>0.000000</td>\n",
              "      <td>1.0</td>\n",
              "      <td>1.797693e+308</td>\n",
              "      <td>0.000000</td>\n",
              "      <td>1.000000e+00</td>\n",
              "      <td>0.004437</td>\n",
              "      <td>0.000000</td>\n",
              "      <td>1.000000e+00</td>\n",
              "    </tr>\n",
              "    <tr>\n",
              "      <th>SIGMA_heinz41</th>\n",
              "      <td>1.235048</td>\n",
              "      <td>0.0</td>\n",
              "      <td>1.412200e-01</td>\n",
              "      <td>8.745558</td>\n",
              "      <td>0.000000e+00</td>\n",
              "      <td>0.165150</td>\n",
              "      <td>7.478355</td>\n",
              "      <td>7.527312e-14</td>\n",
              "    </tr>\n",
              "    <tr>\n",
              "      <th>SIGMA_hunts32</th>\n",
              "      <td>4.847132</td>\n",
              "      <td>0.0</td>\n",
              "      <td>4.066168e-01</td>\n",
              "      <td>11.920637</td>\n",
              "      <td>0.000000e+00</td>\n",
              "      <td>0.418897</td>\n",
              "      <td>11.571186</td>\n",
              "      <td>0.000000e+00</td>\n",
              "    </tr>\n",
              "  </tbody>\n",
              "</table>\n",
              "</div>"
            ],
            "text/plain": [
              "                  Value  Active bound  ...  Rob. t-test  Rob. p-value\n",
              "ASC_heinz32   -0.729645           0.0  ...    -4.823198  1.412747e-06\n",
              "ASC_heinz41   -1.490036           0.0  ...   -10.908122  0.000000e+00\n",
              "B_disp         1.043355           0.0  ...     8.133542  4.440892e-16\n",
              "B_feat         0.986969           0.0  ...     7.265501  3.717027e-13\n",
              "B_price       -1.272207           0.0  ...   -14.247292  0.000000e+00\n",
              "SIGMA_heinz28  0.000000           1.0  ...     0.000000  1.000000e+00\n",
              "SIGMA_heinz41  1.235048           0.0  ...     7.478355  7.527312e-14\n",
              "SIGMA_hunts32  4.847132           0.0  ...    11.571186  0.000000e+00\n",
              "\n",
              "[8 rows x 8 columns]"
            ]
          },
          "metadata": {},
          "execution_count": 20
        }
      ]
    },
    {
      "cell_type": "markdown",
      "metadata": {
        "id": "T4TsEuG00FUS"
      },
      "source": [
        "Interestingly, the simulation of panel data is not implemented! No problem\n",
        "we will still be able to do simulations, by setting up a scenario that does not consider the panel data."
      ]
    },
    {
      "cell_type": "code",
      "metadata": {
        "id": "kvk4m4HDFBzE"
      },
      "source": [
        "#biogeme.simulate(results.getBetaValues())"
      ],
      "execution_count": 21,
      "outputs": []
    },
    {
      "cell_type": "markdown",
      "metadata": {
        "id": "QEzKZ2s4XZjz"
      },
      "source": [
        "# Compare Panel vs Not using the panel information"
      ]
    },
    {
      "cell_type": "markdown",
      "metadata": {
        "id": "MzQqxyj7z2SV"
      },
      "source": [
        "We will just compare the results that we get if the just ignore the panel information. We can recreate this by not using `exp.PanelLikelihoodTrajectory` in the model.\n",
        "\n",
        "In math, this would be the specification:\n",
        "\n",
        "$$V_{jit} = \\beta X_{jit} + \\alpha_{ij \\color{red}{t}}$$\n",
        "\n",
        "Os opposed to the panel specification\n",
        "$$V_{jit} = \\beta X_{jit} + \\alpha_{ij}$$\n",
        "\n",
        "Notice the difference subindex $t$."
      ]
    },
    {
      "cell_type": "code",
      "metadata": {
        "id": "3q7cP3bS_DLf"
      },
      "source": [
        "database_nonpanel = db.Database(\"catsup\", catsup_pd)\n",
        "\n",
        "\n",
        "# We integrate over the random variables using Monte-Carlo\n",
        "logprob_nonpanel = exp.log(exp.MonteCarlo(obsprob))\n",
        "\n",
        "\n",
        "# Create the Biogeme object\n",
        "biogeme_nonpanel  = bio.BIOGEME(database_nonpanel,logprob_nonpanel,numberOfDraws=250, seed=1)\n",
        "\n",
        "\n",
        "# Estimate the parameters. \n",
        "results_nonpanel = biogeme_nonpanel.estimate()\n"
      ],
      "execution_count": 22,
      "outputs": []
    },
    {
      "cell_type": "code",
      "metadata": {
        "colab": {
          "base_uri": "https://localhost:8080/",
          "height": 300
        },
        "id": "G5b7QFou_4eD",
        "outputId": "967272ba-cac2-414b-de46-0d8974b395e1"
      },
      "source": [
        "\n",
        "results_nonpanel.getEstimatedParameters()"
      ],
      "execution_count": 23,
      "outputs": [
        {
          "output_type": "execute_result",
          "data": {
            "text/html": [
              "<div>\n",
              "<style scoped>\n",
              "    .dataframe tbody tr th:only-of-type {\n",
              "        vertical-align: middle;\n",
              "    }\n",
              "\n",
              "    .dataframe tbody tr th {\n",
              "        vertical-align: top;\n",
              "    }\n",
              "\n",
              "    .dataframe thead th {\n",
              "        text-align: right;\n",
              "    }\n",
              "</style>\n",
              "<table border=\"1\" class=\"dataframe\">\n",
              "  <thead>\n",
              "    <tr style=\"text-align: right;\">\n",
              "      <th></th>\n",
              "      <th>Value</th>\n",
              "      <th>Std err</th>\n",
              "      <th>t-test</th>\n",
              "      <th>p-value</th>\n",
              "      <th>Rob. Std err</th>\n",
              "      <th>Rob. t-test</th>\n",
              "      <th>Rob. p-value</th>\n",
              "    </tr>\n",
              "  </thead>\n",
              "  <tbody>\n",
              "    <tr>\n",
              "      <th>ASC_heinz32</th>\n",
              "      <td>1.635916</td>\n",
              "      <td>0.094591</td>\n",
              "      <td>17.294557</td>\n",
              "      <td>0.000000e+00</td>\n",
              "      <td>0.092826</td>\n",
              "      <td>17.623540</td>\n",
              "      <td>0.000000e+00</td>\n",
              "    </tr>\n",
              "    <tr>\n",
              "      <th>ASC_heinz41</th>\n",
              "      <td>0.974421</td>\n",
              "      <td>0.369801</td>\n",
              "      <td>2.634984</td>\n",
              "      <td>8.414124e-03</td>\n",
              "      <td>0.368591</td>\n",
              "      <td>2.643639</td>\n",
              "      <td>8.202004e-03</td>\n",
              "    </tr>\n",
              "    <tr>\n",
              "      <th>B_disp</th>\n",
              "      <td>1.467588</td>\n",
              "      <td>0.194329</td>\n",
              "      <td>7.552096</td>\n",
              "      <td>4.285461e-14</td>\n",
              "      <td>0.214648</td>\n",
              "      <td>6.837200</td>\n",
              "      <td>8.075540e-12</td>\n",
              "    </tr>\n",
              "    <tr>\n",
              "      <th>B_feat</th>\n",
              "      <td>1.728661</td>\n",
              "      <td>0.236286</td>\n",
              "      <td>7.315962</td>\n",
              "      <td>2.555733e-13</td>\n",
              "      <td>0.262917</td>\n",
              "      <td>6.574921</td>\n",
              "      <td>4.867884e-11</td>\n",
              "    </tr>\n",
              "    <tr>\n",
              "      <th>B_price</th>\n",
              "      <td>-2.357343</td>\n",
              "      <td>0.156495</td>\n",
              "      <td>-15.063384</td>\n",
              "      <td>0.000000e+00</td>\n",
              "      <td>0.159830</td>\n",
              "      <td>-14.749045</td>\n",
              "      <td>0.000000e+00</td>\n",
              "    </tr>\n",
              "    <tr>\n",
              "      <th>SIGMA_heinz28</th>\n",
              "      <td>6.755450</td>\n",
              "      <td>0.456698</td>\n",
              "      <td>14.791943</td>\n",
              "      <td>0.000000e+00</td>\n",
              "      <td>0.456737</td>\n",
              "      <td>14.790665</td>\n",
              "      <td>0.000000e+00</td>\n",
              "    </tr>\n",
              "    <tr>\n",
              "      <th>SIGMA_heinz41</th>\n",
              "      <td>2.473500</td>\n",
              "      <td>0.399854</td>\n",
              "      <td>6.186002</td>\n",
              "      <td>6.170917e-10</td>\n",
              "      <td>0.415264</td>\n",
              "      <td>5.956452</td>\n",
              "      <td>2.577732e-09</td>\n",
              "    </tr>\n",
              "    <tr>\n",
              "      <th>SIGMA_hunts32</th>\n",
              "      <td>0.205258</td>\n",
              "      <td>0.318454</td>\n",
              "      <td>0.644543</td>\n",
              "      <td>5.192232e-01</td>\n",
              "      <td>0.111694</td>\n",
              "      <td>1.837673</td>\n",
              "      <td>6.611060e-02</td>\n",
              "    </tr>\n",
              "  </tbody>\n",
              "</table>\n",
              "</div>"
            ],
            "text/plain": [
              "                  Value   Std err  ...  Rob. t-test  Rob. p-value\n",
              "ASC_heinz32    1.635916  0.094591  ...    17.623540  0.000000e+00\n",
              "ASC_heinz41    0.974421  0.369801  ...     2.643639  8.202004e-03\n",
              "B_disp         1.467588  0.194329  ...     6.837200  8.075540e-12\n",
              "B_feat         1.728661  0.236286  ...     6.574921  4.867884e-11\n",
              "B_price       -2.357343  0.156495  ...   -14.749045  0.000000e+00\n",
              "SIGMA_heinz28  6.755450  0.456698  ...    14.790665  0.000000e+00\n",
              "SIGMA_heinz41  2.473500  0.399854  ...     5.956452  2.577732e-09\n",
              "SIGMA_hunts32  0.205258  0.318454  ...     1.837673  6.611060e-02\n",
              "\n",
              "[8 rows x 7 columns]"
            ]
          },
          "metadata": {},
          "execution_count": 23
        }
      ]
    },
    {
      "cell_type": "markdown",
      "metadata": {
        "id": "IOr-zZ9p1WLp"
      },
      "source": [
        "Simulation of the choice probabilities is similar to the MNL, we just have\n",
        "to "
      ]
    },
    {
      "cell_type": "code",
      "metadata": {
        "id": "6MFK9sNkC_iz"
      },
      "source": [
        "tgt_nonpanel = {\n",
        "    0: exp.MonteCarlo(models.logit(V, av, 0)),\n",
        "    1: exp.MonteCarlo(models.logit(V, av, 1)),\n",
        "    2: exp.MonteCarlo(models.logit(V, av, 2)),\n",
        "    3: exp.MonteCarlo(models.logit(V, av, 3))\n",
        "    }\n"
      ],
      "execution_count": 24,
      "outputs": []
    },
    {
      "cell_type": "code",
      "metadata": {
        "colab": {
          "base_uri": "https://localhost:8080/",
          "height": 423
        },
        "id": "_I_7brrBJHP2",
        "outputId": "b9dd5ac4-4964-4aca-81bb-2a1756489621"
      },
      "source": [
        "\n",
        "sim_nonpanel = bio.BIOGEME(database_nonpanel, tgt_nonpanel, numberOfDraws=250, seed=1)\n",
        "preds = sim_nonpanel.simulate(theBetaValues=results_nonpanel.getBetaValues())\n",
        "preds"
      ],
      "execution_count": 25,
      "outputs": [
        {
          "output_type": "execute_result",
          "data": {
            "text/html": [
              "<div>\n",
              "<style scoped>\n",
              "    .dataframe tbody tr th:only-of-type {\n",
              "        vertical-align: middle;\n",
              "    }\n",
              "\n",
              "    .dataframe tbody tr th {\n",
              "        vertical-align: top;\n",
              "    }\n",
              "\n",
              "    .dataframe thead th {\n",
              "        text-align: right;\n",
              "    }\n",
              "</style>\n",
              "<table border=\"1\" class=\"dataframe\">\n",
              "  <thead>\n",
              "    <tr style=\"text-align: right;\">\n",
              "      <th></th>\n",
              "      <th>0</th>\n",
              "      <th>1</th>\n",
              "      <th>2</th>\n",
              "      <th>3</th>\n",
              "    </tr>\n",
              "  </thead>\n",
              "  <tbody>\n",
              "    <tr>\n",
              "      <th>0</th>\n",
              "      <td>0.221586</td>\n",
              "      <td>0.125526</td>\n",
              "      <td>0.466292</td>\n",
              "      <td>0.186596</td>\n",
              "    </tr>\n",
              "    <tr>\n",
              "      <th>1</th>\n",
              "      <td>0.283891</td>\n",
              "      <td>0.242898</td>\n",
              "      <td>0.408833</td>\n",
              "      <td>0.064378</td>\n",
              "    </tr>\n",
              "    <tr>\n",
              "      <th>2</th>\n",
              "      <td>0.093050</td>\n",
              "      <td>0.006497</td>\n",
              "      <td>0.900311</td>\n",
              "      <td>0.000142</td>\n",
              "    </tr>\n",
              "    <tr>\n",
              "      <th>3</th>\n",
              "      <td>0.184734</td>\n",
              "      <td>0.122233</td>\n",
              "      <td>0.493843</td>\n",
              "      <td>0.199190</td>\n",
              "    </tr>\n",
              "    <tr>\n",
              "      <th>4</th>\n",
              "      <td>0.311898</td>\n",
              "      <td>0.042161</td>\n",
              "      <td>0.644101</td>\n",
              "      <td>0.001840</td>\n",
              "    </tr>\n",
              "    <tr>\n",
              "      <th>...</th>\n",
              "      <td>...</td>\n",
              "      <td>...</td>\n",
              "      <td>...</td>\n",
              "      <td>...</td>\n",
              "    </tr>\n",
              "    <tr>\n",
              "      <th>2793</th>\n",
              "      <td>0.221344</td>\n",
              "      <td>0.263944</td>\n",
              "      <td>0.368983</td>\n",
              "      <td>0.145729</td>\n",
              "    </tr>\n",
              "    <tr>\n",
              "      <th>2794</th>\n",
              "      <td>0.315515</td>\n",
              "      <td>0.083315</td>\n",
              "      <td>0.479933</td>\n",
              "      <td>0.121236</td>\n",
              "    </tr>\n",
              "    <tr>\n",
              "      <th>2795</th>\n",
              "      <td>0.162401</td>\n",
              "      <td>0.016769</td>\n",
              "      <td>0.067577</td>\n",
              "      <td>0.753253</td>\n",
              "    </tr>\n",
              "    <tr>\n",
              "      <th>2796</th>\n",
              "      <td>0.228224</td>\n",
              "      <td>0.059167</td>\n",
              "      <td>0.276098</td>\n",
              "      <td>0.436511</td>\n",
              "    </tr>\n",
              "    <tr>\n",
              "      <th>2797</th>\n",
              "      <td>0.514568</td>\n",
              "      <td>0.093028</td>\n",
              "      <td>0.278699</td>\n",
              "      <td>0.113706</td>\n",
              "    </tr>\n",
              "  </tbody>\n",
              "</table>\n",
              "<p>2798 rows × 4 columns</p>\n",
              "</div>"
            ],
            "text/plain": [
              "             0         1         2         3\n",
              "0     0.221586  0.125526  0.466292  0.186596\n",
              "1     0.283891  0.242898  0.408833  0.064378\n",
              "2     0.093050  0.006497  0.900311  0.000142\n",
              "3     0.184734  0.122233  0.493843  0.199190\n",
              "4     0.311898  0.042161  0.644101  0.001840\n",
              "...        ...       ...       ...       ...\n",
              "2793  0.221344  0.263944  0.368983  0.145729\n",
              "2794  0.315515  0.083315  0.479933  0.121236\n",
              "2795  0.162401  0.016769  0.067577  0.753253\n",
              "2796  0.228224  0.059167  0.276098  0.436511\n",
              "2797  0.514568  0.093028  0.278699  0.113706\n",
              "\n",
              "[2798 rows x 4 columns]"
            ]
          },
          "metadata": {},
          "execution_count": 25
        }
      ]
    },
    {
      "cell_type": "code",
      "metadata": {
        "colab": {
          "base_uri": "https://localhost:8080/",
          "height": 423
        },
        "id": "AtG6NHiAPcn-",
        "outputId": "05221886-e86a-4bc6-f538-1a28c3e0201d"
      },
      "source": [
        "sim_panel = bio.BIOGEME(database_nonpanel, tgt_nonpanel, numberOfDraws=250, seed=1)\n",
        "preds = sim_panel.simulate(theBetaValues=results.getBetaValues())\n",
        "preds"
      ],
      "execution_count": 26,
      "outputs": [
        {
          "output_type": "execute_result",
          "data": {
            "text/html": [
              "<div>\n",
              "<style scoped>\n",
              "    .dataframe tbody tr th:only-of-type {\n",
              "        vertical-align: middle;\n",
              "    }\n",
              "\n",
              "    .dataframe tbody tr th {\n",
              "        vertical-align: top;\n",
              "    }\n",
              "\n",
              "    .dataframe thead th {\n",
              "        text-align: right;\n",
              "    }\n",
              "</style>\n",
              "<table border=\"1\" class=\"dataframe\">\n",
              "  <thead>\n",
              "    <tr style=\"text-align: right;\">\n",
              "      <th></th>\n",
              "      <th>0</th>\n",
              "      <th>1</th>\n",
              "      <th>2</th>\n",
              "      <th>3</th>\n",
              "    </tr>\n",
              "  </thead>\n",
              "  <tbody>\n",
              "    <tr>\n",
              "      <th>0</th>\n",
              "      <td>0.087785</td>\n",
              "      <td>0.067616</td>\n",
              "      <td>0.285303</td>\n",
              "      <td>0.559296</td>\n",
              "    </tr>\n",
              "    <tr>\n",
              "      <th>1</th>\n",
              "      <td>0.159617</td>\n",
              "      <td>0.112806</td>\n",
              "      <td>0.241801</td>\n",
              "      <td>0.485777</td>\n",
              "    </tr>\n",
              "    <tr>\n",
              "      <th>2</th>\n",
              "      <td>0.036349</td>\n",
              "      <td>0.014350</td>\n",
              "      <td>0.680025</td>\n",
              "      <td>0.269275</td>\n",
              "    </tr>\n",
              "    <tr>\n",
              "      <th>3</th>\n",
              "      <td>0.087996</td>\n",
              "      <td>0.064651</td>\n",
              "      <td>0.285991</td>\n",
              "      <td>0.561363</td>\n",
              "    </tr>\n",
              "    <tr>\n",
              "      <th>4</th>\n",
              "      <td>0.263782</td>\n",
              "      <td>0.037087</td>\n",
              "      <td>0.362868</td>\n",
              "      <td>0.336263</td>\n",
              "    </tr>\n",
              "    <tr>\n",
              "      <th>...</th>\n",
              "      <td>...</td>\n",
              "      <td>...</td>\n",
              "      <td>...</td>\n",
              "      <td>...</td>\n",
              "    </tr>\n",
              "    <tr>\n",
              "      <th>2793</th>\n",
              "      <td>0.121595</td>\n",
              "      <td>0.127612</td>\n",
              "      <td>0.237574</td>\n",
              "      <td>0.513220</td>\n",
              "    </tr>\n",
              "    <tr>\n",
              "      <th>2794</th>\n",
              "      <td>0.221157</td>\n",
              "      <td>0.036320</td>\n",
              "      <td>0.201408</td>\n",
              "      <td>0.541116</td>\n",
              "    </tr>\n",
              "    <tr>\n",
              "      <th>2795</th>\n",
              "      <td>0.063142</td>\n",
              "      <td>0.021121</td>\n",
              "      <td>0.180699</td>\n",
              "      <td>0.735038</td>\n",
              "    </tr>\n",
              "    <tr>\n",
              "      <th>2796</th>\n",
              "      <td>0.103882</td>\n",
              "      <td>0.040646</td>\n",
              "      <td>0.261773</td>\n",
              "      <td>0.593699</td>\n",
              "    </tr>\n",
              "    <tr>\n",
              "      <th>2797</th>\n",
              "      <td>0.453459</td>\n",
              "      <td>0.022535</td>\n",
              "      <td>0.063171</td>\n",
              "      <td>0.460835</td>\n",
              "    </tr>\n",
              "  </tbody>\n",
              "</table>\n",
              "<p>2798 rows × 4 columns</p>\n",
              "</div>"
            ],
            "text/plain": [
              "             0         1         2         3\n",
              "0     0.087785  0.067616  0.285303  0.559296\n",
              "1     0.159617  0.112806  0.241801  0.485777\n",
              "2     0.036349  0.014350  0.680025  0.269275\n",
              "3     0.087996  0.064651  0.285991  0.561363\n",
              "4     0.263782  0.037087  0.362868  0.336263\n",
              "...        ...       ...       ...       ...\n",
              "2793  0.121595  0.127612  0.237574  0.513220\n",
              "2794  0.221157  0.036320  0.201408  0.541116\n",
              "2795  0.063142  0.021121  0.180699  0.735038\n",
              "2796  0.103882  0.040646  0.261773  0.593699\n",
              "2797  0.453459  0.022535  0.063171  0.460835\n",
              "\n",
              "[2798 rows x 4 columns]"
            ]
          },
          "metadata": {},
          "execution_count": 26
        }
      ]
    },
    {
      "cell_type": "markdown",
      "metadata": {
        "id": "RiheBLYw_ssd"
      },
      "source": [
        "#Compare to the Multinomial Logit (fixed effects) without agent effect"
      ]
    },
    {
      "cell_type": "markdown",
      "metadata": {
        "id": "A8poqO9X1xCr"
      },
      "source": [
        "Just remove the random effect when specifying the utility functions."
      ]
    },
    {
      "cell_type": "code",
      "metadata": {
        "id": "Dlo4Wv4d_7Xs"
      },
      "source": [
        "V_heinz41_mnl = ASC_heinz41 + B_disp *disp_heinz41 + B_feat * feat_heinz41 + B_price * price_heinz41 #+ EC_heinz41\n",
        "V_heinz32_mnl = ASC_heinz32 + B_disp *disp_heinz32 + B_feat * feat_heinz32 + B_price * price_heinz32 #+ EC_heinz32\n",
        "V_heinz28_mnl = ASC_heinz28 + B_disp *disp_heinz28 + B_feat * feat_heinz28 + B_price * price_heinz28 #+ EC_heinz28\n",
        "V_hunts32_mnl = ASC_hunts32 + B_disp *disp_hunts32 + B_feat * feat_hunts32 + B_price * price_hunts32 #+ EC_hunts32"
      ],
      "execution_count": 27,
      "outputs": []
    },
    {
      "cell_type": "code",
      "metadata": {
        "id": "mRgxoLxQBHe3"
      },
      "source": [
        "V_mnl = {0: V_heinz28_mnl,\n",
        "     1: V_heinz41_mnl,\n",
        "     2: V_heinz32_mnl,\n",
        "     3: V_hunts32_mnl}"
      ],
      "execution_count": 28,
      "outputs": []
    },
    {
      "cell_type": "code",
      "metadata": {
        "id": "SHX2cnmOA_6F"
      },
      "source": [
        " logprob = models.loglogit (V_mnl , av , choice )\n",
        " bgm_model = bio.BIOGEME ( database_nonpanel, logprob )\n",
        "results_mnl = bgm_model.estimate()"
      ],
      "execution_count": 29,
      "outputs": []
    },
    {
      "cell_type": "code",
      "metadata": {
        "colab": {
          "base_uri": "https://localhost:8080/",
          "height": 206
        },
        "id": "iqhU9tvzBWuF",
        "outputId": "cf231ff7-44d0-4f1f-e227-634c5fe6194d"
      },
      "source": [
        "results_mnl.getEstimatedParameters()"
      ],
      "execution_count": 30,
      "outputs": [
        {
          "output_type": "execute_result",
          "data": {
            "text/html": [
              "<div>\n",
              "<style scoped>\n",
              "    .dataframe tbody tr th:only-of-type {\n",
              "        vertical-align: middle;\n",
              "    }\n",
              "\n",
              "    .dataframe tbody tr th {\n",
              "        vertical-align: top;\n",
              "    }\n",
              "\n",
              "    .dataframe thead th {\n",
              "        text-align: right;\n",
              "    }\n",
              "</style>\n",
              "<table border=\"1\" class=\"dataframe\">\n",
              "  <thead>\n",
              "    <tr style=\"text-align: right;\">\n",
              "      <th></th>\n",
              "      <th>Value</th>\n",
              "      <th>Std err</th>\n",
              "      <th>t-test</th>\n",
              "      <th>p-value</th>\n",
              "      <th>Rob. Std err</th>\n",
              "      <th>Rob. t-test</th>\n",
              "      <th>Rob. p-value</th>\n",
              "    </tr>\n",
              "  </thead>\n",
              "  <tbody>\n",
              "    <tr>\n",
              "      <th>ASC_heinz32</th>\n",
              "      <td>0.648626</td>\n",
              "      <td>0.045939</td>\n",
              "      <td>14.119377</td>\n",
              "      <td>0.000000e+00</td>\n",
              "      <td>0.041539</td>\n",
              "      <td>15.614902</td>\n",
              "      <td>0.000000e+00</td>\n",
              "    </tr>\n",
              "    <tr>\n",
              "      <th>ASC_heinz41</th>\n",
              "      <td>-0.634554</td>\n",
              "      <td>0.088652</td>\n",
              "      <td>-7.157828</td>\n",
              "      <td>8.195666e-13</td>\n",
              "      <td>0.092739</td>\n",
              "      <td>-6.842360</td>\n",
              "      <td>7.789991e-12</td>\n",
              "    </tr>\n",
              "    <tr>\n",
              "      <th>B_disp</th>\n",
              "      <td>1.364851</td>\n",
              "      <td>0.091346</td>\n",
              "      <td>14.941472</td>\n",
              "      <td>0.000000e+00</td>\n",
              "      <td>0.097956</td>\n",
              "      <td>13.933276</td>\n",
              "      <td>0.000000e+00</td>\n",
              "    </tr>\n",
              "    <tr>\n",
              "      <th>B_feat</th>\n",
              "      <td>0.939845</td>\n",
              "      <td>0.101568</td>\n",
              "      <td>9.253366</td>\n",
              "      <td>0.000000e+00</td>\n",
              "      <td>0.101292</td>\n",
              "      <td>9.278530</td>\n",
              "      <td>0.000000e+00</td>\n",
              "    </tr>\n",
              "    <tr>\n",
              "      <th>B_price</th>\n",
              "      <td>-0.519478</td>\n",
              "      <td>0.038763</td>\n",
              "      <td>-13.401433</td>\n",
              "      <td>0.000000e+00</td>\n",
              "      <td>0.040612</td>\n",
              "      <td>-12.791336</td>\n",
              "      <td>0.000000e+00</td>\n",
              "    </tr>\n",
              "  </tbody>\n",
              "</table>\n",
              "</div>"
            ],
            "text/plain": [
              "                 Value   Std err  ...  Rob. t-test  Rob. p-value\n",
              "ASC_heinz32   0.648626  0.045939  ...    15.614902  0.000000e+00\n",
              "ASC_heinz41  -0.634554  0.088652  ...    -6.842360  7.789991e-12\n",
              "B_disp        1.364851  0.091346  ...    13.933276  0.000000e+00\n",
              "B_feat        0.939845  0.101568  ...     9.278530  0.000000e+00\n",
              "B_price      -0.519478  0.038763  ...   -12.791336  0.000000e+00\n",
              "\n",
              "[5 rows x 7 columns]"
            ]
          },
          "metadata": {},
          "execution_count": 30
        }
      ]
    },
    {
      "cell_type": "code",
      "metadata": {
        "colab": {
          "base_uri": "https://localhost:8080/",
          "height": 423
        },
        "id": "eMhxng5GOarG",
        "outputId": "c86f27c7-b7e6-42a6-ade4-f06e6989b421"
      },
      "source": [
        "tgt_mnl = {\n",
        "    0: (models.logit(V_mnl, av, 0)),\n",
        "    1: (models.logit(V_mnl, av, 1)),\n",
        "    2: (models.logit(V_mnl, av, 2)),\n",
        "    3: (models.logit(V_mnl, av, 3))\n",
        "    }\n",
        "\n",
        "sim_mnl = bio.BIOGEME(database_nonpanel, tgt_mnl)\n",
        "preds_mnl = sim_mnl.simulate(theBetaValues=results_mnl.getBetaValues())\n",
        "preds_mnl"
      ],
      "execution_count": 31,
      "outputs": [
        {
          "output_type": "execute_result",
          "data": {
            "text/html": [
              "<div>\n",
              "<style scoped>\n",
              "    .dataframe tbody tr th:only-of-type {\n",
              "        vertical-align: middle;\n",
              "    }\n",
              "\n",
              "    .dataframe tbody tr th {\n",
              "        vertical-align: top;\n",
              "    }\n",
              "\n",
              "    .dataframe thead th {\n",
              "        text-align: right;\n",
              "    }\n",
              "</style>\n",
              "<table border=\"1\" class=\"dataframe\">\n",
              "  <thead>\n",
              "    <tr style=\"text-align: right;\">\n",
              "      <th></th>\n",
              "      <th>0</th>\n",
              "      <th>1</th>\n",
              "      <th>2</th>\n",
              "      <th>3</th>\n",
              "    </tr>\n",
              "  </thead>\n",
              "  <tbody>\n",
              "    <tr>\n",
              "      <th>0</th>\n",
              "      <td>0.118467</td>\n",
              "      <td>0.085779</td>\n",
              "      <td>0.493974</td>\n",
              "      <td>0.301780</td>\n",
              "    </tr>\n",
              "    <tr>\n",
              "      <th>1</th>\n",
              "      <td>0.158921</td>\n",
              "      <td>0.115070</td>\n",
              "      <td>0.485202</td>\n",
              "      <td>0.240806</td>\n",
              "    </tr>\n",
              "    <tr>\n",
              "      <th>2</th>\n",
              "      <td>0.058798</td>\n",
              "      <td>0.031173</td>\n",
              "      <td>0.857034</td>\n",
              "      <td>0.052995</td>\n",
              "    </tr>\n",
              "    <tr>\n",
              "      <th>3</th>\n",
              "      <td>0.118467</td>\n",
              "      <td>0.085779</td>\n",
              "      <td>0.493974</td>\n",
              "      <td>0.301780</td>\n",
              "    </tr>\n",
              "    <tr>\n",
              "      <th>4</th>\n",
              "      <td>0.305327</td>\n",
              "      <td>0.063243</td>\n",
              "      <td>0.523914</td>\n",
              "      <td>0.107516</td>\n",
              "    </tr>\n",
              "    <tr>\n",
              "      <th>...</th>\n",
              "      <td>...</td>\n",
              "      <td>...</td>\n",
              "      <td>...</td>\n",
              "      <td>...</td>\n",
              "    </tr>\n",
              "    <tr>\n",
              "      <th>2793</th>\n",
              "      <td>0.136931</td>\n",
              "      <td>0.115868</td>\n",
              "      <td>0.463834</td>\n",
              "      <td>0.283367</td>\n",
              "    </tr>\n",
              "    <tr>\n",
              "      <th>2794</th>\n",
              "      <td>0.192460</td>\n",
              "      <td>0.067340</td>\n",
              "      <td>0.477352</td>\n",
              "      <td>0.262848</td>\n",
              "    </tr>\n",
              "    <tr>\n",
              "      <th>2795</th>\n",
              "      <td>0.050414</td>\n",
              "      <td>0.026728</td>\n",
              "      <td>0.199569</td>\n",
              "      <td>0.723289</td>\n",
              "    </tr>\n",
              "    <tr>\n",
              "      <th>2796</th>\n",
              "      <td>0.118707</td>\n",
              "      <td>0.062935</td>\n",
              "      <td>0.446128</td>\n",
              "      <td>0.372230</td>\n",
              "    </tr>\n",
              "    <tr>\n",
              "      <th>2797</th>\n",
              "      <td>0.451487</td>\n",
              "      <td>0.058593</td>\n",
              "      <td>0.304123</td>\n",
              "      <td>0.185796</td>\n",
              "    </tr>\n",
              "  </tbody>\n",
              "</table>\n",
              "<p>2798 rows × 4 columns</p>\n",
              "</div>"
            ],
            "text/plain": [
              "             0         1         2         3\n",
              "0     0.118467  0.085779  0.493974  0.301780\n",
              "1     0.158921  0.115070  0.485202  0.240806\n",
              "2     0.058798  0.031173  0.857034  0.052995\n",
              "3     0.118467  0.085779  0.493974  0.301780\n",
              "4     0.305327  0.063243  0.523914  0.107516\n",
              "...        ...       ...       ...       ...\n",
              "2793  0.136931  0.115868  0.463834  0.283367\n",
              "2794  0.192460  0.067340  0.477352  0.262848\n",
              "2795  0.050414  0.026728  0.199569  0.723289\n",
              "2796  0.118707  0.062935  0.446128  0.372230\n",
              "2797  0.451487  0.058593  0.304123  0.185796\n",
              "\n",
              "[2798 rows x 4 columns]"
            ]
          },
          "metadata": {},
          "execution_count": 31
        }
      ]
    },
    {
      "cell_type": "markdown",
      "metadata": {
        "id": "WD9D_LEzXg1E"
      },
      "source": [
        "---\n",
        "---\n",
        "\n",
        "# Exercise: Caaturing dynamics: Add last choice as additional variable (assume that data was observed in order), add it as fixed parameter and  estimate a mixed logit.\n",
        "Basically we add a new variable and repeat the process for estimating the mixed logit."
      ]
    },
    {
      "cell_type": "markdown",
      "metadata": {
        "id": "1jhu_8H06kPx"
      },
      "source": [
        "The first step is given to us: In the following cells we are going to create a new dataset that has an additional covariate representing the alternative that was chosen before each choice situation.\n"
      ]
    },
    {
      "cell_type": "code",
      "metadata": {
        "id": "FMiA3LYh2MDs"
      },
      "source": [
        "catsup_past = catsup_pd.copy()"
      ],
      "execution_count": 32,
      "outputs": []
    },
    {
      "cell_type": "markdown",
      "metadata": {
        "id": "b2c6HlC07xtp"
      },
      "source": [
        "This functions takes a column, removes the last observation and adds a -1 at the begginning. This is how we create the lagged variable."
      ]
    },
    {
      "cell_type": "code",
      "metadata": {
        "id": "1BHxL-lq23gS"
      },
      "source": [
        "def last_choice(x):\n",
        "  return pd.Series([-1]).append(x[:-1])"
      ],
      "execution_count": 43,
      "outputs": []
    },
    {
      "cell_type": "markdown",
      "metadata": {
        "id": "pis5Ehiu788T"
      },
      "source": [
        "We apply the function `last_choice` to the dataset, but we group the dataset by the id of the household."
      ]
    },
    {
      "cell_type": "code",
      "metadata": {
        "colab": {
          "base_uri": "https://localhost:8080/",
          "height": 602
        },
        "id": "uo2jb5-O3dM9",
        "outputId": "c593a08d-858e-4ee8-8a2b-9dc18e183918"
      },
      "source": [
        "lchoice =  catsup_past.groupby('id')['choice'].apply(last_choice).reset_index()#.head(25)\n",
        "catsup_past['last_choice'] = lchoice['choice']\n",
        "catsup_past.head(17)"
      ],
      "execution_count": 54,
      "outputs": [
        {
          "output_type": "execute_result",
          "data": {
            "text/html": [
              "<div>\n",
              "<style scoped>\n",
              "    .dataframe tbody tr th:only-of-type {\n",
              "        vertical-align: middle;\n",
              "    }\n",
              "\n",
              "    .dataframe tbody tr th {\n",
              "        vertical-align: top;\n",
              "    }\n",
              "\n",
              "    .dataframe thead th {\n",
              "        text-align: right;\n",
              "    }\n",
              "</style>\n",
              "<table border=\"1\" class=\"dataframe\">\n",
              "  <thead>\n",
              "    <tr style=\"text-align: right;\">\n",
              "      <th></th>\n",
              "      <th>id</th>\n",
              "      <th>disp_heinz41</th>\n",
              "      <th>disp_heinz32</th>\n",
              "      <th>disp_heinz28</th>\n",
              "      <th>disp_hunts32</th>\n",
              "      <th>feat_heinz41</th>\n",
              "      <th>feat_heinz32</th>\n",
              "      <th>feat_heinz28</th>\n",
              "      <th>feat_hunts32</th>\n",
              "      <th>price_heinz41</th>\n",
              "      <th>price_heinz32</th>\n",
              "      <th>price_heinz28</th>\n",
              "      <th>price_hunts32</th>\n",
              "      <th>choice</th>\n",
              "      <th>_biogroups</th>\n",
              "      <th>last_choice</th>\n",
              "    </tr>\n",
              "  </thead>\n",
              "  <tbody>\n",
              "    <tr>\n",
              "      <th>0</th>\n",
              "      <td>1</td>\n",
              "      <td>0</td>\n",
              "      <td>0</td>\n",
              "      <td>0</td>\n",
              "      <td>0</td>\n",
              "      <td>0</td>\n",
              "      <td>0</td>\n",
              "      <td>0</td>\n",
              "      <td>0</td>\n",
              "      <td>4.6</td>\n",
              "      <td>3.7</td>\n",
              "      <td>5.2</td>\n",
              "      <td>3.4</td>\n",
              "      <td>0</td>\n",
              "      <td>1</td>\n",
              "      <td>-1</td>\n",
              "    </tr>\n",
              "    <tr>\n",
              "      <th>1</th>\n",
              "      <td>1</td>\n",
              "      <td>0</td>\n",
              "      <td>0</td>\n",
              "      <td>0</td>\n",
              "      <td>0</td>\n",
              "      <td>0</td>\n",
              "      <td>0</td>\n",
              "      <td>0</td>\n",
              "      <td>0</td>\n",
              "      <td>4.6</td>\n",
              "      <td>4.3</td>\n",
              "      <td>5.2</td>\n",
              "      <td>4.4</td>\n",
              "      <td>0</td>\n",
              "      <td>1</td>\n",
              "      <td>0</td>\n",
              "    </tr>\n",
              "    <tr>\n",
              "      <th>2</th>\n",
              "      <td>1</td>\n",
              "      <td>0</td>\n",
              "      <td>0</td>\n",
              "      <td>0</td>\n",
              "      <td>0</td>\n",
              "      <td>0</td>\n",
              "      <td>1</td>\n",
              "      <td>0</td>\n",
              "      <td>0</td>\n",
              "      <td>4.6</td>\n",
              "      <td>2.5</td>\n",
              "      <td>4.6</td>\n",
              "      <td>4.8</td>\n",
              "      <td>0</td>\n",
              "      <td>1</td>\n",
              "      <td>0</td>\n",
              "    </tr>\n",
              "    <tr>\n",
              "      <th>3</th>\n",
              "      <td>1</td>\n",
              "      <td>0</td>\n",
              "      <td>0</td>\n",
              "      <td>0</td>\n",
              "      <td>0</td>\n",
              "      <td>0</td>\n",
              "      <td>0</td>\n",
              "      <td>0</td>\n",
              "      <td>0</td>\n",
              "      <td>4.6</td>\n",
              "      <td>3.7</td>\n",
              "      <td>5.2</td>\n",
              "      <td>3.4</td>\n",
              "      <td>0</td>\n",
              "      <td>1</td>\n",
              "      <td>0</td>\n",
              "    </tr>\n",
              "    <tr>\n",
              "      <th>4</th>\n",
              "      <td>1</td>\n",
              "      <td>0</td>\n",
              "      <td>0</td>\n",
              "      <td>0</td>\n",
              "      <td>0</td>\n",
              "      <td>0</td>\n",
              "      <td>0</td>\n",
              "      <td>1</td>\n",
              "      <td>0</td>\n",
              "      <td>4.6</td>\n",
              "      <td>3.0</td>\n",
              "      <td>4.6</td>\n",
              "      <td>4.8</td>\n",
              "      <td>0</td>\n",
              "      <td>1</td>\n",
              "      <td>0</td>\n",
              "    </tr>\n",
              "    <tr>\n",
              "      <th>5</th>\n",
              "      <td>1</td>\n",
              "      <td>0</td>\n",
              "      <td>0</td>\n",
              "      <td>0</td>\n",
              "      <td>0</td>\n",
              "      <td>0</td>\n",
              "      <td>0</td>\n",
              "      <td>0</td>\n",
              "      <td>0</td>\n",
              "      <td>5.0</td>\n",
              "      <td>3.0</td>\n",
              "      <td>4.7</td>\n",
              "      <td>3.0</td>\n",
              "      <td>0</td>\n",
              "      <td>1</td>\n",
              "      <td>0</td>\n",
              "    </tr>\n",
              "    <tr>\n",
              "      <th>6</th>\n",
              "      <td>1</td>\n",
              "      <td>0</td>\n",
              "      <td>0</td>\n",
              "      <td>0</td>\n",
              "      <td>1</td>\n",
              "      <td>0</td>\n",
              "      <td>0</td>\n",
              "      <td>0</td>\n",
              "      <td>1</td>\n",
              "      <td>5.1</td>\n",
              "      <td>3.1</td>\n",
              "      <td>4.6</td>\n",
              "      <td>4.1</td>\n",
              "      <td>0</td>\n",
              "      <td>1</td>\n",
              "      <td>0</td>\n",
              "    </tr>\n",
              "    <tr>\n",
              "      <th>7</th>\n",
              "      <td>1</td>\n",
              "      <td>0</td>\n",
              "      <td>0</td>\n",
              "      <td>0</td>\n",
              "      <td>0</td>\n",
              "      <td>0</td>\n",
              "      <td>0</td>\n",
              "      <td>0</td>\n",
              "      <td>0</td>\n",
              "      <td>4.6</td>\n",
              "      <td>3.4</td>\n",
              "      <td>4.7</td>\n",
              "      <td>3.1</td>\n",
              "      <td>1</td>\n",
              "      <td>1</td>\n",
              "      <td>0</td>\n",
              "    </tr>\n",
              "    <tr>\n",
              "      <th>8</th>\n",
              "      <td>1</td>\n",
              "      <td>0</td>\n",
              "      <td>0</td>\n",
              "      <td>0</td>\n",
              "      <td>0</td>\n",
              "      <td>0</td>\n",
              "      <td>0</td>\n",
              "      <td>0</td>\n",
              "      <td>0</td>\n",
              "      <td>5.0</td>\n",
              "      <td>3.4</td>\n",
              "      <td>4.7</td>\n",
              "      <td>3.1</td>\n",
              "      <td>0</td>\n",
              "      <td>1</td>\n",
              "      <td>1</td>\n",
              "    </tr>\n",
              "    <tr>\n",
              "      <th>9</th>\n",
              "      <td>1</td>\n",
              "      <td>0</td>\n",
              "      <td>0</td>\n",
              "      <td>0</td>\n",
              "      <td>1</td>\n",
              "      <td>0</td>\n",
              "      <td>0</td>\n",
              "      <td>0</td>\n",
              "      <td>0</td>\n",
              "      <td>5.0</td>\n",
              "      <td>3.4</td>\n",
              "      <td>5.0</td>\n",
              "      <td>2.8</td>\n",
              "      <td>0</td>\n",
              "      <td>1</td>\n",
              "      <td>0</td>\n",
              "    </tr>\n",
              "    <tr>\n",
              "      <th>10</th>\n",
              "      <td>1</td>\n",
              "      <td>0</td>\n",
              "      <td>0</td>\n",
              "      <td>0</td>\n",
              "      <td>0</td>\n",
              "      <td>0</td>\n",
              "      <td>0</td>\n",
              "      <td>0</td>\n",
              "      <td>0</td>\n",
              "      <td>4.5</td>\n",
              "      <td>3.2</td>\n",
              "      <td>5.0</td>\n",
              "      <td>4.1</td>\n",
              "      <td>0</td>\n",
              "      <td>1</td>\n",
              "      <td>0</td>\n",
              "    </tr>\n",
              "    <tr>\n",
              "      <th>11</th>\n",
              "      <td>1</td>\n",
              "      <td>0</td>\n",
              "      <td>0</td>\n",
              "      <td>0</td>\n",
              "      <td>0</td>\n",
              "      <td>0</td>\n",
              "      <td>0</td>\n",
              "      <td>0</td>\n",
              "      <td>0</td>\n",
              "      <td>5.0</td>\n",
              "      <td>3.7</td>\n",
              "      <td>5.0</td>\n",
              "      <td>3.4</td>\n",
              "      <td>0</td>\n",
              "      <td>1</td>\n",
              "      <td>0</td>\n",
              "    </tr>\n",
              "    <tr>\n",
              "      <th>12</th>\n",
              "      <td>1</td>\n",
              "      <td>0</td>\n",
              "      <td>0</td>\n",
              "      <td>0</td>\n",
              "      <td>0</td>\n",
              "      <td>0</td>\n",
              "      <td>0</td>\n",
              "      <td>0</td>\n",
              "      <td>0</td>\n",
              "      <td>5.0</td>\n",
              "      <td>3.7</td>\n",
              "      <td>5.3</td>\n",
              "      <td>3.7</td>\n",
              "      <td>0</td>\n",
              "      <td>1</td>\n",
              "      <td>0</td>\n",
              "    </tr>\n",
              "    <tr>\n",
              "      <th>13</th>\n",
              "      <td>1</td>\n",
              "      <td>0</td>\n",
              "      <td>0</td>\n",
              "      <td>1</td>\n",
              "      <td>0</td>\n",
              "      <td>0</td>\n",
              "      <td>0</td>\n",
              "      <td>0</td>\n",
              "      <td>0</td>\n",
              "      <td>5.2</td>\n",
              "      <td>3.7</td>\n",
              "      <td>3.6</td>\n",
              "      <td>3.7</td>\n",
              "      <td>0</td>\n",
              "      <td>1</td>\n",
              "      <td>0</td>\n",
              "    </tr>\n",
              "    <tr>\n",
              "      <th>14</th>\n",
              "      <td>2</td>\n",
              "      <td>0</td>\n",
              "      <td>0</td>\n",
              "      <td>0</td>\n",
              "      <td>0</td>\n",
              "      <td>0</td>\n",
              "      <td>0</td>\n",
              "      <td>0</td>\n",
              "      <td>0</td>\n",
              "      <td>4.6</td>\n",
              "      <td>3.7</td>\n",
              "      <td>5.2</td>\n",
              "      <td>3.7</td>\n",
              "      <td>0</td>\n",
              "      <td>2</td>\n",
              "      <td>-1</td>\n",
              "    </tr>\n",
              "    <tr>\n",
              "      <th>15</th>\n",
              "      <td>2</td>\n",
              "      <td>0</td>\n",
              "      <td>0</td>\n",
              "      <td>0</td>\n",
              "      <td>0</td>\n",
              "      <td>0</td>\n",
              "      <td>0</td>\n",
              "      <td>0</td>\n",
              "      <td>0</td>\n",
              "      <td>4.6</td>\n",
              "      <td>3.1</td>\n",
              "      <td>5.2</td>\n",
              "      <td>3.4</td>\n",
              "      <td>2</td>\n",
              "      <td>2</td>\n",
              "      <td>0</td>\n",
              "    </tr>\n",
              "    <tr>\n",
              "      <th>16</th>\n",
              "      <td>2</td>\n",
              "      <td>0</td>\n",
              "      <td>0</td>\n",
              "      <td>0</td>\n",
              "      <td>0</td>\n",
              "      <td>0</td>\n",
              "      <td>0</td>\n",
              "      <td>0</td>\n",
              "      <td>0</td>\n",
              "      <td>4.6</td>\n",
              "      <td>1.8</td>\n",
              "      <td>5.2</td>\n",
              "      <td>3.4</td>\n",
              "      <td>2</td>\n",
              "      <td>2</td>\n",
              "      <td>2</td>\n",
              "    </tr>\n",
              "  </tbody>\n",
              "</table>\n",
              "</div>"
            ],
            "text/plain": [
              "    id  disp_heinz41  disp_heinz32  ...  choice  _biogroups  last_choice\n",
              "0    1             0             0  ...       0           1           -1\n",
              "1    1             0             0  ...       0           1            0\n",
              "2    1             0             0  ...       0           1            0\n",
              "3    1             0             0  ...       0           1            0\n",
              "4    1             0             0  ...       0           1            0\n",
              "5    1             0             0  ...       0           1            0\n",
              "6    1             0             0  ...       0           1            0\n",
              "7    1             0             0  ...       1           1            0\n",
              "8    1             0             0  ...       0           1            1\n",
              "9    1             0             0  ...       0           1            0\n",
              "10   1             0             0  ...       0           1            0\n",
              "11   1             0             0  ...       0           1            0\n",
              "12   1             0             0  ...       0           1            0\n",
              "13   1             0             0  ...       0           1            0\n",
              "14   2             0             0  ...       0           2           -1\n",
              "15   2             0             0  ...       2           2            0\n",
              "16   2             0             0  ...       2           2            2\n",
              "\n",
              "[17 rows x 16 columns]"
            ]
          },
          "metadata": {},
          "execution_count": 54
        }
      ]
    },
    {
      "cell_type": "markdown",
      "metadata": {
        "id": "7UWus_IE7dZb"
      },
      "source": [
        "But now it is up to you how the new variable is added to the model!\n",
        "Transformations? Dummy encoding? Per-alternative parameters?."
      ]
    },
    {
      "cell_type": "code",
      "metadata": {
        "id": "QoX_dTij7nC3"
      },
      "source": [
        ""
      ],
      "execution_count": null,
      "outputs": []
    }
  ]
}